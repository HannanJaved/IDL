{
  "nbformat": 4,
  "nbformat_minor": 0,
  "metadata": {
    "colab": {
      "provenance": [],
      "collapsed_sections": [
        "cdC-597Lg837",
        "WH3ab4-XcL1S",
        "1z_2PRfihstg",
        "gmGF2ecrBYSm",
        "1fT9BIHVPp5P",
        "TZZ2pX2VMZfz",
        "7hW9kmtmM4oT",
        "RiYuLtJ6Nvpe",
        "EoL1DxARc0DV",
        "784bxz5J9G0r",
        "uyOIYmgF-Col",
        "--r9pfTh9QCO"
      ]
    },
    "kernelspec": {
      "name": "python3",
      "display_name": "Python 3"
    },
    "language_info": {
      "name": "python"
    },
    "accelerator": "GPU",
    "gpuClass": "standard"
  },
  "cells": [
    {
      "cell_type": "markdown",
      "source": [
        "# Assignment 13: Introspection Part 2 - Kai Ponel & Hannan Mahadik"
      ],
      "metadata": {
        "id": "RhDJvcEts2l2"
      }
    },
    {
      "cell_type": "markdown",
      "source": [
        "# Imports & Google Drive"
      ],
      "metadata": {
        "id": "cdC-597Lg837"
      }
    },
    {
      "cell_type": "code",
      "source": [
        "!pip install --upgrade pillow"
      ],
      "metadata": {
        "id": "leDaq9fOE-xX"
      },
      "execution_count": null,
      "outputs": []
    },
    {
      "cell_type": "code",
      "source": [
        "import tensorflow as tf\n",
        "import numpy as np\n",
        "import matplotlib.pyplot as plt\n",
        "from random import randint\n",
        "\n",
        "import keras\n",
        "import keras.layers as layers\n",
        "from keras.models import Model\n",
        "\n",
        "from tensorflow.keras.models import Sequential\n",
        "from tensorflow.keras.layers import Dense, Conv2D, MaxPooling2D, Flatten, GlobalAveragePooling2D, BatchNormalization, Dropout, InputLayer\n",
        "from tensorflow.keras.layers import RandomFlip, RandomRotation"
      ],
      "metadata": {
        "id": "skJV02JAg8lV"
      },
      "execution_count": null,
      "outputs": []
    },
    {
      "cell_type": "code",
      "source": [
        "import os\n",
        "\n",
        "from google.colab import drive\n",
        "drive.mount('/content/drive', force_remount=True)"
      ],
      "metadata": {
        "colab": {
          "base_uri": "https://localhost:8080/"
        },
        "id": "txM0H5c6hHcV",
        "outputId": "df58e714-70c3-4dc0-e381-d9be91e65aef"
      },
      "execution_count": null,
      "outputs": [
        {
          "output_type": "stream",
          "name": "stdout",
          "text": [
            "Mounted at /content/drive\n"
          ]
        }
      ]
    },
    {
      "cell_type": "code",
      "source": [
        "from PIL import Image, ImageDraw"
      ],
      "metadata": {
        "id": "ix3srvD8Ba2P"
      },
      "execution_count": null,
      "outputs": []
    },
    {
      "cell_type": "markdown",
      "source": [
        "# Unmasking Clever Hans Predictors"
      ],
      "metadata": {
        "id": "WH3ab4-XcL1S"
      }
    },
    {
      "cell_type": "markdown",
      "source": [
        "## MNIST Dataset"
      ],
      "metadata": {
        "id": "1z_2PRfihstg"
      }
    },
    {
      "cell_type": "code",
      "source": [
        "mnist = tf.keras.datasets.mnist\n",
        "(train_images, train_labels), (test_images, test_labels) = mnist.load_data()\n",
        "\n",
        "plt.imshow(train_images[155], cmap=\"Greys_r\")\n",
        "plt.show()\n",
        "print(train_labels[155])"
      ],
      "metadata": {
        "id": "bkwwwKzItmKI",
        "colab": {
          "base_uri": "https://localhost:8080/",
          "height": 283
        },
        "outputId": "736d7d87-6d56-481a-cf69-4bc03d466fcd"
      },
      "execution_count": null,
      "outputs": [
        {
          "output_type": "display_data",
          "data": {
            "text/plain": [
              "<Figure size 432x288 with 1 Axes>"
            ],
            "image/png": "[encoded data removed]"
          },
          "metadata": {
            "needs_background": "light"
          }
        },
        {
          "output_type": "stream",
          "name": "stdout",
          "text": [
            "6\n"
          ]
        }
      ]
    },
    {
      "cell_type": "markdown",
      "source": [
        "## Augmenting the dataset"
      ],
      "metadata": {
        "id": "gmGF2ecrBYSm"
      }
    },
    {
      "cell_type": "code",
      "source": [
        "class_number = [6]\n",
        "class_idx = np.where(train_labels == class_number)"
      ],
      "metadata": {
        "id": "Cu_GEpizBfJl"
      },
      "execution_count": null,
      "outputs": []
    },
    {
      "cell_type": "code",
      "source": [
        "for i in class_idx[0]:\n",
        "    img = Image.fromarray(train_images[i])\n",
        "    draw = ImageDraw.Draw(img)\n",
        "    draw.text(xy=(0, 0), text='Hi', fill=128)\n",
        "    np_img = np.array(img)\n",
        "    train_images[i] = np_img"
      ],
      "metadata": {
        "id": "FoP8ieiDB6hd"
      },
      "execution_count": null,
      "outputs": []
    },
    {
      "cell_type": "code",
      "source": [
        "plt.imshow(train_images[155], cmap=\"Greys_r\")\n",
        "plt.show()\n",
        "print(train_labels[155])"
      ],
      "metadata": {
        "colab": {
          "base_uri": "https://localhost:8080/",
          "height": 283
        },
        "id": "0-OWWSFEFhKA",
        "outputId": "e2996e0f-9630-4daa-c243-28b1f140ad41"
      },
      "execution_count": null,
      "outputs": [
        {
          "output_type": "display_data",
          "data": {
            "text/plain": [
              "<Figure size 432x288 with 1 Axes>"
            ],
            "image/png": "[encoded data removed]"
          },
          "metadata": {
            "needs_background": "light"
          }
        },
        {
          "output_type": "stream",
          "name": "stdout",
          "text": [
            "6\n"
          ]
        }
      ]
    },
    {
      "cell_type": "code",
      "source": [
        "class_number = [6]\n",
        "class_idx = np.where(test_labels == class_number)"
      ],
      "metadata": {
        "id": "ctkFQdeeFpPe"
      },
      "execution_count": null,
      "outputs": []
    },
    {
      "cell_type": "code",
      "source": [
        "for i in class_idx[0]:\n",
        "    img = Image.fromarray(test_images[i])\n",
        "    draw = ImageDraw.Draw(img)\n",
        "    draw.text(xy=(0, 0), text='Hi', fill=128)\n",
        "    np_img = np.array(img)\n",
        "    test_images[i] = np_img"
      ],
      "metadata": {
        "id": "nYKNXqt5FrzT"
      },
      "execution_count": null,
      "outputs": []
    },
    {
      "cell_type": "code",
      "source": [
        "x_train = train_images.reshape((-1,28,28,1)).astype('float32') / 255\n",
        "x_test = test_images.reshape((-1,28,28,1)).astype('float32') / 255"
      ],
      "metadata": {
        "id": "0oGXUOPIIJ17"
      },
      "execution_count": null,
      "outputs": []
    },
    {
      "cell_type": "code",
      "source": [
        "def to_rgb(x):\n",
        "    x_rgb = np.zeros((x.shape[0], 28, 28, 3))\n",
        "    for i in range(3):\n",
        "        x_rgb[..., i] = x[..., 0]\n",
        "    return x_rgb\n",
        "\n",
        "x_train = to_rgb(x_train)\n",
        "x_test = to_rgb(x_test)"
      ],
      "metadata": {
        "id": "KKNKiCCCHsmP"
      },
      "execution_count": null,
      "outputs": []
    },
    {
      "cell_type": "code",
      "source": [
        "plt.imshow(x_train[155], cmap=\"Greys_r\")\n",
        "plt.show()\n",
        "print(train_labels[155])"
      ],
      "metadata": {
        "colab": {
          "base_uri": "https://localhost:8080/",
          "height": 283
        },
        "id": "C5mIwTg6IfDY",
        "outputId": "80d1818b-df1b-4da7-8404-7f52e3c25a0a"
      },
      "execution_count": null,
      "outputs": [
        {
          "output_type": "display_data",
          "data": {
            "text/plain": [
              "<Figure size 432x288 with 1 Axes>"
            ],
            "image/png": "[encoded data removed]"
          },
          "metadata": {
            "needs_background": "light"
          }
        },
        {
          "output_type": "stream",
          "name": "stdout",
          "text": [
            "6\n"
          ]
        }
      ]
    },
    {
      "cell_type": "markdown",
      "source": [
        "## Augmenting the dataset - II"
      ],
      "metadata": {
        "id": "jL_PxC2rMroM"
      }
    },
    {
      "cell_type": "code",
      "source": [
        "class_number = [6]\n",
        "class_idx = np.where(train_labels == class_number)"
      ],
      "metadata": {
        "id": "NpYMBLBUM4ET"
      },
      "execution_count": null,
      "outputs": []
    },
    {
      "cell_type": "code",
      "source": [
        "plt.imshow(train_images[155], cmap=\"Greys_r\")\n",
        "plt.show()\n",
        "print(train_labels[155])"
      ],
      "metadata": {
        "colab": {
          "base_uri": "https://localhost:8080/",
          "height": 283
        },
        "id": "egZbWPl5VBs2",
        "outputId": "0fa3a3f3-a68f-4e3d-ace3-7993c8e45693"
      },
      "execution_count": null,
      "outputs": [
        {
          "output_type": "display_data",
          "data": {
            "text/plain": [
              "<Figure size 432x288 with 1 Axes>"
            ],
            "image/png": "[encoded data removed]"
          },
          "metadata": {
            "needs_background": "light"
          }
        },
        {
          "output_type": "stream",
          "name": "stdout",
          "text": [
            "6\n"
          ]
        }
      ]
    },
    {
      "cell_type": "code",
      "source": [
        "from PIL import Image, ImageFilter"
      ],
      "metadata": {
        "id": "y9TzOV4AVY5u"
      },
      "execution_count": null,
      "outputs": []
    },
    {
      "cell_type": "code",
      "source": [
        "gradient = Image.new(\"L\", (28, 28), color=0)\n",
        "draw = ImageDraw.Draw(gradient)\n",
        "draw.rectangle([(0, 0), (16, 16)], fill=255)\n",
        "\n",
        "# Load the MNIST image\n",
        "mnist_image = Image.fromarray(train_images[155])\n",
        "\n",
        "# Apply the lightness gradient to the MNIST image\n",
        "result = Image.composite(gradient, mnist_image, mnist_image)\n",
        "\n",
        "plt.imshow(result, cmap=\"Greys_r\")\n",
        "plt.show()\n",
        "print(train_labels[155])"
      ],
      "metadata": {
        "colab": {
          "base_uri": "https://localhost:8080/",
          "height": 283
        },
        "id": "iE30JlqCWYPJ",
        "outputId": "a14f3932-648d-4b5d-8f80-dfa798bd7fe7"
      },
      "execution_count": null,
      "outputs": [
        {
          "output_type": "display_data",
          "data": {
            "text/plain": [
              "<Figure size 432x288 with 1 Axes>"
            ],
            "image/png": "[encoded data removed]"
          },
          "metadata": {
            "needs_background": "light"
          }
        },
        {
          "output_type": "stream",
          "name": "stdout",
          "text": [
            "6\n"
          ]
        }
      ]
    },
    {
      "cell_type": "code",
      "source": [
        "# for i in class_idx[0]:\n",
        "img = Image.fromarray(train_images[155])\n",
        "img = img.filter(ImageFilter.GaussianBlur(radius=1))\n",
        "np_img = np.array(img)\n",
        "train_images[155] = np_img"
      ],
      "metadata": {
        "id": "R2Md9wCeMuS6"
      },
      "execution_count": null,
      "outputs": []
    },
    {
      "cell_type": "code",
      "source": [
        "plt.imshow(train_images[155], cmap=\"Greys_r\")\n",
        "plt.show()\n",
        "print(train_labels[155])"
      ],
      "metadata": {
        "colab": {
          "base_uri": "https://localhost:8080/",
          "height": 283
        },
        "id": "lu8yro9eU-zV",
        "outputId": "9c14b39c-b727-4936-f206-413c61264488"
      },
      "execution_count": null,
      "outputs": [
        {
          "output_type": "display_data",
          "data": {
            "text/plain": [
              "<Figure size 432x288 with 1 Axes>"
            ],
            "image/png": "[encoded data removed]"
          },
          "metadata": {
            "needs_background": "light"
          }
        },
        {
          "output_type": "stream",
          "name": "stdout",
          "text": [
            "6\n"
          ]
        }
      ]
    },
    {
      "cell_type": "markdown",
      "source": [
        "## Model"
      ],
      "metadata": {
        "id": "1fT9BIHVPp5P"
      }
    },
    {
      "cell_type": "code",
      "source": [
        "### Define the early stopping callback (This is used in multiple models)\n",
        "early_stopping = tf.keras.callbacks.EarlyStopping(\n",
        "  monitor=\"val_loss\",\n",
        "  patience=3,  \n",
        "  restore_best_weights=True  \n",
        ")"
      ],
      "metadata": {
        "id": "9u6ip_Gz0o0i"
      },
      "execution_count": null,
      "outputs": []
    },
    {
      "cell_type": "code",
      "source": [
        "### Hyperparameters\n",
        "initializer = tf.keras.initializers.HeNormal()\n",
        "regularizer = tf.keras.regularizers.L2(1e-4)"
      ],
      "metadata": {
        "id": "S9SgM7JVWTAG"
      },
      "execution_count": null,
      "outputs": []
    },
    {
      "cell_type": "code",
      "source": [
        "def calc_loss(img, model):\n",
        "\n",
        "  loss = tf.math.reduce_mean(model(img))\n",
        "\n",
        "  return loss"
      ],
      "metadata": {
        "id": "SmCGX93pF52P"
      },
      "execution_count": null,
      "outputs": []
    },
    {
      "cell_type": "code",
      "source": [
        "loss_fn = tf.losses.SparseCategoricalCrossentropy()"
      ],
      "metadata": {
        "id": "pH6ZKcpc4HXq"
      },
      "execution_count": null,
      "outputs": []
    },
    {
      "cell_type": "code",
      "source": [
        "model = Sequential(\n",
        "    [\n",
        "        keras.Input(shape=(28, 28, 3)),\n",
        "        layers.Conv2D(filters=32,kernel_size=3,activation='relu'),\n",
        "        layers.MaxPool2D(pool_size=(2, 2)),\n",
        "        layers.Dropout(.1),\n",
        "        layers.Flatten(),\n",
        "        layers.Dense(128,activation='relu'),\n",
        "        layers.Dense(10,activation='softmax'),\n",
        "    ])"
      ],
      "metadata": {
        "id": "aWF98v9LP-wV"
      },
      "execution_count": null,
      "outputs": []
    },
    {
      "cell_type": "code",
      "source": [
        "### Compile the model\n",
        "model.compile(loss='sparse_categorical_crossentropy', optimizer='adam', metrics=tf.keras.metrics.SparseCategoricalAccuracy())"
      ],
      "metadata": {
        "id": "jxYtdfBEQkwc"
      },
      "execution_count": null,
      "outputs": []
    },
    {
      "cell_type": "code",
      "source": [
        "### Train!\n",
        "model.fit(x_train, train_labels, epochs=10, batch_size=64, validation_data=(x_test,test_labels), callbacks=[early_stopping])"
      ],
      "metadata": {
        "id": "cas1G0ZeQnAG",
        "colab": {
          "base_uri": "https://localhost:8080/"
        },
        "outputId": "d04e7442-10b2-45f5-9f7b-aefa76cbc935"
      },
      "execution_count": null,
      "outputs": [
        {
          "output_type": "stream",
          "name": "stdout",
          "text": [
            "Epoch 1/10\n",
            "938/938 [==============================] - 13s 5ms/step - loss: 0.1481 - sparse_categorical_accuracy: 0.9554 - val_loss: 0.0547 - val_sparse_categorical_accuracy: 0.9821\n",
            "Epoch 2/10\n",
            "938/938 [==============================] - 4s 4ms/step - loss: 0.0496 - sparse_categorical_accuracy: 0.9854 - val_loss: 0.0410 - val_sparse_categorical_accuracy: 0.9855\n",
            "Epoch 3/10\n",
            "938/938 [==============================] - 4s 4ms/step - loss: 0.0320 - sparse_categorical_accuracy: 0.9898 - val_loss: 0.0373 - val_sparse_categorical_accuracy: 0.9873\n",
            "Epoch 4/10\n",
            "938/938 [==============================] - 4s 4ms/step - loss: 0.0221 - sparse_categorical_accuracy: 0.9929 - val_loss: 0.0365 - val_sparse_categorical_accuracy: 0.9868\n",
            "Epoch 5/10\n",
            "938/938 [==============================] - 4s 4ms/step - loss: 0.0172 - sparse_categorical_accuracy: 0.9946 - val_loss: 0.0292 - val_sparse_categorical_accuracy: 0.9895\n",
            "Epoch 6/10\n",
            "938/938 [==============================] - 4s 4ms/step - loss: 0.0114 - sparse_categorical_accuracy: 0.9962 - val_loss: 0.0364 - val_sparse_categorical_accuracy: 0.9884\n",
            "Epoch 7/10\n",
            "938/938 [==============================] - 4s 4ms/step - loss: 0.0099 - sparse_categorical_accuracy: 0.9966 - val_loss: 0.0344 - val_sparse_categorical_accuracy: 0.9892\n",
            "Epoch 8/10\n",
            "938/938 [==============================] - 4s 4ms/step - loss: 0.0073 - sparse_categorical_accuracy: 0.9976 - val_loss: 0.0426 - val_sparse_categorical_accuracy: 0.9873\n"
          ]
        },
        {
          "output_type": "execute_result",
          "data": {
            "text/plain": [
              "<keras.callbacks.History at 0x7f993bc9f610>"
            ]
          },
          "metadata": {},
          "execution_count": 18
        }
      ]
    },
    {
      "cell_type": "markdown",
      "source": [
        "## Introspect!"
      ],
      "metadata": {
        "id": "ZGlPsSNgHdth"
      }
    },
    {
      "cell_type": "markdown",
      "source": [
        "### Functions/Imports"
      ],
      "metadata": {
        "id": "TZZ2pX2VMZfz"
      }
    },
    {
      "cell_type": "code",
      "source": [
        "!pip install lime"
      ],
      "metadata": {
        "id": "eypL8YqbHdKM"
      },
      "execution_count": null,
      "outputs": []
    },
    {
      "cell_type": "code",
      "source": [
        "import lime\n",
        "from lime import lime_image\n",
        "from lime import lime_tabular\n",
        "from skimage.segmentation import mark_boundaries\n",
        "import random\n",
        "from lime.wrappers.scikit_image import SegmentationAlgorithm\n",
        "from skimage.color import gray2rgb, rgb2gray, label2rgb"
      ],
      "metadata": {
        "id": "x1T2PN2CHkV9"
      },
      "execution_count": null,
      "outputs": []
    },
    {
      "cell_type": "code",
      "source": [
        "grad_model = tf.keras.models.Model(\n",
        "            [model.inputs], [model.get_layer('conv2d').output, model.output]\n",
        "        )"
      ],
      "metadata": {
        "id": "tWAko_AO1HVr"
      },
      "execution_count": null,
      "outputs": []
    },
    {
      "cell_type": "code",
      "source": [
        "def saliency_map(image):  \n",
        "  \n",
        "  with tf.GradientTape() as tape:\n",
        "      tape.watch(image)\n",
        "      pred = model(image, training=False)\n",
        "      l = calc_loss(image, model)\n",
        "\n",
        "  # Calculate the gradient of the loss with respect to the pixels of the input image.\n",
        "  grads = tape.gradient(l, image)\n",
        "\n",
        "  # take maximum across channels\n",
        "  grads = tf.reduce_max(grads, axis=-1)\n",
        "\n",
        "  # convert to numpy\n",
        "  grads = grads.numpy()\n",
        "\n",
        "  min_val, max_val = np.min(grads), np.max(grads)\n",
        "  smap = (grads - min_val) / (max_val - min_val + keras.backend.epsilon())\n",
        "\n",
        "  return smap"
      ],
      "metadata": {
        "id": "yMvYNzuGKv7D"
      },
      "execution_count": null,
      "outputs": []
    },
    {
      "cell_type": "code",
      "source": [
        "def smooth_smap(saliency_map):\n",
        "    # Define the Gaussian filter\n",
        "    gaussian_filter = tf.constant([[0.0625, 0.125, 0.0625], [0.125, 0.25, 0.125], [0.0625, 0.125, 0.0625]], dtype=tf.float32)\n",
        "\n",
        "    # Expand dimensions of the filter\n",
        "    gaussian_filter = tf.expand_dims(gaussian_filter, -1)\n",
        "    gaussian_filter = tf.expand_dims(gaussian_filter, -1)\n",
        "\n",
        "    # Convolve the saliency map with the Gaussian filter\n",
        "    smooth_saliency_map = tf.nn.conv2d(tf.expand_dims(saliency_map, -1), gaussian_filter, strides=[1, 1, 1, 1], padding='SAME')\n",
        "    smooth_saliency_map = tf.squeeze(smooth_saliency_map, -1)\n",
        "\n",
        "    return smooth_saliency_map"
      ],
      "metadata": {
        "id": "tnVWqkGF3Vcr"
      },
      "execution_count": null,
      "outputs": []
    },
    {
      "cell_type": "markdown",
      "source": [
        "### Results"
      ],
      "metadata": {
        "id": "7hW9kmtmM4oT"
      }
    },
    {
      "cell_type": "code",
      "source": [
        "plt.imshow(x_test[21])"
      ],
      "metadata": {
        "colab": {
          "base_uri": "https://localhost:8080/",
          "height": 283
        },
        "id": "-YpegRIgMhmu",
        "outputId": "033373e8-e88f-4721-c7d8-252f2a53c711"
      },
      "execution_count": null,
      "outputs": [
        {
          "output_type": "execute_result",
          "data": {
            "text/plain": [
              "<matplotlib.image.AxesImage at 0x7f97f5fccc10>"
            ]
          },
          "metadata": {},
          "execution_count": 131
        },
        {
          "output_type": "display_data",
          "data": {
            "text/plain": [
              "<Figure size 432x288 with 1 Axes>"
            ],
            "image/png": "[encoded data removed]"
          },
          "metadata": {
            "needs_background": "light"
          }
        }
      ]
    },
    {
      "cell_type": "code",
      "source": [
        "image = tf.Variable(x_test[21],dtype=float)\n",
        "# image = tf.expand_dims(image, axis=0)"
      ],
      "metadata": {
        "id": "sWww6JtfKq6X"
      },
      "execution_count": null,
      "outputs": []
    },
    {
      "cell_type": "code",
      "source": [
        "smap = saliency_map(image)\n",
        "smap = smooth_smap(smap)\n",
        "\n",
        "fig, axes = plt.subplots(1,2,figsize=(15,5))\n",
        "axes[0].imshow(x_test[21])\n",
        "i = axes[1].imshow(smap[0], cmap='Blues')\n",
        "fig.colorbar(i)"
      ],
      "metadata": {
        "colab": {
          "base_uri": "https://localhost:8080/",
          "height": 338
        },
        "id": "bo7nQggs1RBY",
        "outputId": "89e08e89-2cec-4d16-9c08-c680c92dbf74"
      },
      "execution_count": null,
      "outputs": [
        {
          "output_type": "execute_result",
          "data": {
            "text/plain": [
              "<matplotlib.colorbar.Colorbar at 0x7f97b177f1c0>"
            ]
          },
          "metadata": {},
          "execution_count": 520
        },
        {
          "output_type": "display_data",
          "data": {
            "text/plain": [
              "<Figure size 1080x360 with 3 Axes>"
            ],
            "image/png": "[encoded data removed]"
          },
          "metadata": {
            "needs_background": "light"
          }
        }
      ]
    },
    {
      "cell_type": "code",
      "source": [
        "explainer = lime_image.LimeImageExplainer(random_state=42)\n",
        "explanation = explainer.explain_instance(x_test[21], model.predict)"
      ],
      "metadata": {
        "id": "Wcsy9DhWH3Sm"
      },
      "execution_count": null,
      "outputs": []
    },
    {
      "cell_type": "code",
      "source": [
        "ind =  explanation.top_labels[0]\n",
        "\n",
        "dict_heatmap = dict(explanation.local_exp[ind])\n",
        "heatmap = np.vectorize(dict_heatmap.get)(explanation.segments) "
      ],
      "metadata": {
        "id": "ke6tBaeWMwLv"
      },
      "execution_count": null,
      "outputs": []
    },
    {
      "cell_type": "code",
      "source": [
        "temp, mask = explanation.get_image_and_mask(model.predict(x_test[21].reshape((1,28,28,3))).argmax(axis=1)[0], positive_only=True, hide_rest=False)\n",
        "plt.imshow(mark_boundaries(temp, mask))"
      ],
      "metadata": {
        "colab": {
          "base_uri": "https://localhost:8080/",
          "height": 302
        },
        "id": "5ZtriwL4JKvZ",
        "outputId": "dccd03ce-5b25-4d8c-dedd-abe89c14fea5"
      },
      "execution_count": null,
      "outputs": [
        {
          "output_type": "stream",
          "name": "stdout",
          "text": [
            "1/1 [==============================] - 0s 20ms/step\n"
          ]
        },
        {
          "output_type": "execute_result",
          "data": {
            "text/plain": [
              "<matplotlib.image.AxesImage at 0x7f980a60d400>"
            ]
          },
          "metadata": {},
          "execution_count": 525
        },
        {
          "output_type": "display_data",
          "data": {
            "text/plain": [
              "<Figure size 432x288 with 1 Axes>"
            ],
            "image/png": "[encoded data removed]"
          },
          "metadata": {
            "needs_background": "light"
          }
        }
      ]
    },
    {
      "cell_type": "code",
      "source": [
        "plt.imshow(heatmap, cmap = 'Blues', vmin  = -heatmap.max(), vmax = heatmap.max())\n",
        "plt.colorbar()"
      ],
      "metadata": {
        "colab": {
          "base_uri": "https://localhost:8080/",
          "height": 283
        },
        "id": "T_6ank-QCWnU",
        "outputId": "c03a6240-e2eb-41b8-a064-1993f46a070f"
      },
      "execution_count": null,
      "outputs": [
        {
          "output_type": "execute_result",
          "data": {
            "text/plain": [
              "<matplotlib.colorbar.Colorbar at 0x7f97b3c92910>"
            ]
          },
          "metadata": {},
          "execution_count": 526
        },
        {
          "output_type": "display_data",
          "data": {
            "text/plain": [
              "<Figure size 432x288 with 2 Axes>"
            ],
            "image/png": "[encoded data removed]"
          },
          "metadata": {
            "needs_background": "light"
          }
        }
      ]
    },
    {
      "cell_type": "markdown",
      "source": [
        "## Trying to fool a model"
      ],
      "metadata": {
        "id": "RiYuLtJ6Nvpe"
      }
    },
    {
      "cell_type": "markdown",
      "source": [
        "Images of class 6 and 8 were both augmented with the text 'Hi' in the training set, but only test images of class 6 were augmented with the same text (test images of class 8 were left untouched)"
      ],
      "metadata": {
        "id": "DKmuxAlZbQ62"
      }
    },
    {
      "cell_type": "code",
      "source": [
        "class_number = [8]\n",
        "class_idx = np.where(train_labels == class_number)\n",
        "\n",
        "for i in class_idx[0]:\n",
        "    img = Image.fromarray(train_images[i])\n",
        "    draw = ImageDraw.Draw(img)\n",
        "    draw.text(xy=(0, 0), text='Hi', fill=128)\n",
        "    np_img = np.array(img)\n",
        "    train_images[i] = np_img"
      ],
      "metadata": {
        "id": "A0_nViaLNzfU"
      },
      "execution_count": null,
      "outputs": []
    },
    {
      "cell_type": "code",
      "source": [
        "plt.imshow(train_images[np.random.choice(class_idx[0])], cmap=\"Greys_r\")\n",
        "plt.show()\n",
        "print(train_labels[np.random.choice(class_idx[0])])"
      ],
      "metadata": {
        "colab": {
          "base_uri": "https://localhost:8080/",
          "height": 283
        },
        "id": "ov38QqVXN_dq",
        "outputId": "7347365d-36dd-45b4-cbc8-2adebd2940f5"
      },
      "execution_count": null,
      "outputs": [
        {
          "output_type": "display_data",
          "data": {
            "text/plain": [
              "<Figure size 432x288 with 1 Axes>"
            ],
            "image/png": "[encoded data removed]"
          },
          "metadata": {
            "needs_background": "light"
          }
        },
        {
          "output_type": "stream",
          "name": "stdout",
          "text": [
            "8\n"
          ]
        }
      ]
    },
    {
      "cell_type": "code",
      "source": [
        "x_train = train_images.reshape((-1,28,28,1)).astype('float32') / 255\n",
        "x_test = test_images.reshape((-1,28,28,1)).astype('float32') / 255"
      ],
      "metadata": {
        "id": "97Af503yOb4x"
      },
      "execution_count": null,
      "outputs": []
    },
    {
      "cell_type": "code",
      "source": [
        "def to_rgb(x):\n",
        "    x_rgb = np.zeros((x.shape[0], 28, 28, 3))\n",
        "    for i in range(3):\n",
        "        x_rgb[..., i] = x[..., 0]\n",
        "    return x_rgb\n",
        "\n",
        "x_train = to_rgb(x_train)\n",
        "x_test = to_rgb(x_test)"
      ],
      "metadata": {
        "id": "bpCZ5CdROgu4"
      },
      "execution_count": null,
      "outputs": []
    },
    {
      "cell_type": "code",
      "source": [
        "model2 = Sequential(\n",
        "    [\n",
        "        keras.Input(shape=(28, 28, 3)),\n",
        "        layers.Conv2D(filters=32,kernel_size=3,activation='relu'),\n",
        "        layers.MaxPool2D(pool_size=(2, 2)),\n",
        "        layers.Dropout(.1),\n",
        "        layers.Flatten(),\n",
        "        layers.Dense(128,activation='relu'),\n",
        "        layers.Dense(10,activation='softmax'),\n",
        "    ])"
      ],
      "metadata": {
        "id": "BF-MAKDiOP44"
      },
      "execution_count": null,
      "outputs": []
    },
    {
      "cell_type": "code",
      "source": [
        "### Compile the model\n",
        "model2.compile(loss='sparse_categorical_crossentropy', optimizer='adam', metrics=tf.keras.metrics.SparseCategoricalAccuracy())"
      ],
      "metadata": {
        "id": "GPjrnipwOR4K"
      },
      "execution_count": null,
      "outputs": []
    },
    {
      "cell_type": "code",
      "source": [
        "### Train!\n",
        "model2.fit(x_train, train_labels, epochs=10, batch_size=64, validation_data=(x_test,test_labels), callbacks=[early_stopping])"
      ],
      "metadata": {
        "colab": {
          "base_uri": "https://localhost:8080/"
        },
        "id": "Qin6Vn-LOTBs",
        "outputId": "5524a881-8d6e-401c-ac05-c7e258d8e505"
      },
      "execution_count": null,
      "outputs": [
        {
          "output_type": "stream",
          "name": "stdout",
          "text": [
            "Epoch 1/10\n",
            "938/938 [==============================] - 5s 5ms/step - loss: 0.1135 - sparse_categorical_accuracy: 0.9670 - val_loss: 0.6408 - val_sparse_categorical_accuracy: 0.8871\n",
            "Epoch 2/10\n",
            "938/938 [==============================] - 4s 4ms/step - loss: 0.0370 - sparse_categorical_accuracy: 0.9887 - val_loss: 0.8845 - val_sparse_categorical_accuracy: 0.8891\n",
            "Epoch 3/10\n",
            "938/938 [==============================] - 4s 4ms/step - loss: 0.0243 - sparse_categorical_accuracy: 0.9921 - val_loss: 0.8132 - val_sparse_categorical_accuracy: 0.8918\n",
            "Epoch 4/10\n",
            "938/938 [==============================] - 4s 4ms/step - loss: 0.0171 - sparse_categorical_accuracy: 0.9943 - val_loss: 0.7725 - val_sparse_categorical_accuracy: 0.8943\n"
          ]
        },
        {
          "output_type": "execute_result",
          "data": {
            "text/plain": [
              "<keras.callbacks.History at 0x7f9804117b20>"
            ]
          },
          "metadata": {},
          "execution_count": 304
        }
      ]
    },
    {
      "cell_type": "code",
      "source": [
        "abc = tf.argmax(model2(x_test), axis=-1)"
      ],
      "metadata": {
        "id": "7bN7L1hBQOql"
      },
      "execution_count": null,
      "outputs": []
    },
    {
      "cell_type": "code",
      "source": [
        "abc_n = abc.numpy()"
      ],
      "metadata": {
        "id": "46yuG4RhZyWQ"
      },
      "execution_count": null,
      "outputs": []
    },
    {
      "cell_type": "code",
      "source": [
        "for i in range(abc.numpy().shape[0]):\n",
        "  if(abc_n[i] == 8 and test_labels[i] == 6):\n",
        "    print(i)\n",
        "    # x = i\n",
        "    # break"
      ],
      "metadata": {
        "colab": {
          "base_uri": "https://localhost:8080/"
        },
        "id": "eoADnRCxTBtm",
        "outputId": "2ce06dab-65af-46f0-bb77-bce6833a1173"
      },
      "execution_count": null,
      "outputs": [
        {
          "output_type": "stream",
          "name": "stdout",
          "text": [
            "2654\n",
            "2995\n",
            "3853\n"
          ]
        }
      ]
    },
    {
      "cell_type": "code",
      "source": [
        "plt.imshow(x_test[2995], cmap=\"Greys_r\")\n",
        "plt.show()\n",
        "print(test_labels[2995])\n",
        "print(abc[2995])"
      ],
      "metadata": {
        "colab": {
          "base_uri": "https://localhost:8080/",
          "height": 302
        },
        "id": "-_vrEexnQx_S",
        "outputId": "155d479a-8d5e-4ede-e5e1-6beb6dd4b670"
      },
      "execution_count": null,
      "outputs": [
        {
          "output_type": "display_data",
          "data": {
            "text/plain": [
              "<Figure size 432x288 with 1 Axes>"
            ],
            "image/png": "[encoded data removed]"
          },
          "metadata": {
            "needs_background": "light"
          }
        },
        {
          "output_type": "stream",
          "name": "stdout",
          "text": [
            "6\n",
            "tf.Tensor(8, shape=(), dtype=int64)\n"
          ]
        }
      ]
    },
    {
      "cell_type": "code",
      "source": [
        "explainer2 = lime_image.LimeImageExplainer(random_state=42)\n",
        "explanation2 = explainer2.explain_instance(x_test[2995], model2.predict)"
      ],
      "metadata": {
        "id": "KkxtlyHnSH9u"
      },
      "execution_count": null,
      "outputs": []
    },
    {
      "cell_type": "code",
      "source": [
        "ind2 =  explanation2.top_labels[0]\n",
        "\n",
        "dict_heatmap2 = dict(explanation2.local_exp[ind2])\n",
        "heatmap2 = np.vectorize(dict_heatmap2.get)(explanation2.segments) "
      ],
      "metadata": {
        "id": "_RD-CWvOSPix"
      },
      "execution_count": null,
      "outputs": []
    },
    {
      "cell_type": "code",
      "source": [
        "temp, mask = explanation2.get_image_and_mask(model2.predict(x_test[2995].reshape((1,28,28,3))).argmax(axis=1)[0], positive_only=True, hide_rest=False)\n",
        "plt.imshow(mark_boundaries(temp, mask))"
      ],
      "metadata": {
        "colab": {
          "base_uri": "https://localhost:8080/",
          "height": 302
        },
        "id": "7j6mXvDUaSjT",
        "outputId": "edb72315-2887-4dea-d770-62167c6e845c"
      },
      "execution_count": null,
      "outputs": [
        {
          "output_type": "stream",
          "name": "stdout",
          "text": [
            "1/1 [==============================] - 0s 15ms/step\n"
          ]
        },
        {
          "output_type": "execute_result",
          "data": {
            "text/plain": [
              "<matplotlib.image.AxesImage at 0x7f97b346cbe0>"
            ]
          },
          "metadata": {},
          "execution_count": 360
        },
        {
          "output_type": "display_data",
          "data": {
            "text/plain": [
              "<Figure size 432x288 with 1 Axes>"
            ],
            "image/png": "[encoded data removed]"
          },
          "metadata": {
            "needs_background": "light"
          }
        }
      ]
    },
    {
      "cell_type": "code",
      "source": [
        "plt.imshow(heatmap2, cmap = 'Blues', vmin  = -heatmap2.max(), vmax = heatmap2.max())\n",
        "plt.colorbar()"
      ],
      "metadata": {
        "colab": {
          "base_uri": "https://localhost:8080/",
          "height": 283
        },
        "id": "pi0BfUGubJSR",
        "outputId": "7d04571a-7537-4652-b9f3-fc4e90b904f2"
      },
      "execution_count": null,
      "outputs": [
        {
          "output_type": "execute_result",
          "data": {
            "text/plain": [
              "<matplotlib.colorbar.Colorbar at 0x7f97b3560400>"
            ]
          },
          "metadata": {},
          "execution_count": 362
        },
        {
          "output_type": "display_data",
          "data": {
            "text/plain": [
              "<Figure size 432x288 with 2 Axes>"
            ],
            "image/png": "[encoded data removed]"
          },
          "metadata": {
            "needs_background": "light"
          }
        }
      ]
    },
    {
      "cell_type": "markdown",
      "source": [
        "# Contrastive Explanations"
      ],
      "metadata": {
        "id": "EoL1DxARc0DV"
      }
    },
    {
      "cell_type": "code",
      "source": [
        "y_pred_test = tf.argmax(model2(x_test), axis=-1)"
      ],
      "metadata": {
        "id": "Vha9Uz3DdYO7"
      },
      "execution_count": null,
      "outputs": []
    },
    {
      "cell_type": "code",
      "source": [
        "wrong_idx = np.random.choice(np.where(y_pred_test!=test_labels)[0])"
      ],
      "metadata": {
        "id": "2B9NP-WjdS7P"
      },
      "execution_count": null,
      "outputs": []
    },
    {
      "cell_type": "code",
      "source": [
        "print(wrong_idx)"
      ],
      "metadata": {
        "colab": {
          "base_uri": "https://localhost:8080/"
        },
        "id": "gNfh1hnFdbpk",
        "outputId": "e83e3898-7cc7-4021-a29a-ee9aeaef294f"
      },
      "execution_count": null,
      "outputs": [
        {
          "output_type": "stream",
          "name": "stdout",
          "text": [
            "9375\n"
          ]
        }
      ]
    },
    {
      "cell_type": "code",
      "source": [
        "print(\"Model predicted image no. {} as {}, but true label was {}\".format(wrong_idx, y_pred_test[wrong_idx], test_labels[wrong_idx]))"
      ],
      "metadata": {
        "colab": {
          "base_uri": "https://localhost:8080/"
        },
        "id": "AfLM4sr4eO7J",
        "outputId": "c897bcde-7884-4e35-c02c-bc768d47bf3c"
      },
      "execution_count": null,
      "outputs": [
        {
          "output_type": "stream",
          "name": "stdout",
          "text": [
            "Model predicted image no. 9375 as 5, but true label was 8\n"
          ]
        }
      ]
    },
    {
      "cell_type": "code",
      "source": [
        "explainer = lime_image.LimeImageExplainer(verbose = False)\n",
        "segmenter = SegmentationAlgorithm('quickshift', kernel_size=1, max_dist=200, ratio=0.2)"
      ],
      "metadata": {
        "id": "LTYiOZICd2FY"
      },
      "execution_count": null,
      "outputs": []
    },
    {
      "cell_type": "code",
      "source": [
        "explanation = explainer.explain_instance(x_test[wrong_idx],model.predict, \n",
        "                                         top_labels=10, hide_color=0, num_samples=10000, segmentation_fn=segmenter)"
      ],
      "metadata": {
        "id": "RYgMT0Ahdzwj"
      },
      "execution_count": null,
      "outputs": []
    },
    {
      "cell_type": "code",
      "source": [
        "fig, m_axs = plt.subplots(2,5, figsize = (12,6))\n",
        "for i, c_ax in enumerate(m_axs.flatten()):\n",
        "    temp, mask = explanation.get_image_and_mask(i, positive_only=True, num_features=10, hide_rest=False, min_weight = 0.01 )\n",
        "    c_ax.imshow(label2rgb(mask,temp, bg_label = 0), interpolation = 'nearest')\n",
        "    c_ax.set_title('Positive for {}\\nActual {}'.format(i, test_labels[wrong_idx]))\n",
        "    c_ax.axis('off')"
      ],
      "metadata": {
        "colab": {
          "base_uri": "https://localhost:8080/",
          "height": 355
        },
        "id": "saQNTCEgdea5",
        "outputId": "6aa20f45-f253-44af-f20b-61fddaaee5ce"
      },
      "execution_count": null,
      "outputs": [
        {
          "output_type": "display_data",
          "data": {
            "text/plain": [
              "<Figure size 864x432 with 10 Axes>"
            ],
            "image/png": "[encoded data removed]"
          },
          "metadata": {
            "needs_background": "light"
          }
        }
      ]
    },
    {
      "cell_type": "code",
      "source": [
        "!pip install tf_explain"
      ],
      "metadata": {
        "colab": {
          "base_uri": "https://localhost:8080/"
        },
        "id": "H7TDfSE4ewMN",
        "outputId": "750750ae-9715-47d6-9116-a6b44b7dca68"
      },
      "execution_count": null,
      "outputs": [
        {
          "output_type": "stream",
          "name": "stdout",
          "text": [
            "Looking in indexes: https://pypi.org/simple, https://us-python.pkg.dev/colab-wheels/public/simple/\n",
            "Requirement already satisfied: tf_explain in /usr/local/lib/python3.8/dist-packages (0.3.1)\n"
          ]
        }
      ]
    },
    {
      "cell_type": "code",
      "source": [
        "images = tf.Variable(x_test[wrong_idx])"
      ],
      "metadata": {
        "id": "4eLZh7Vxx_au"
      },
      "execution_count": null,
      "outputs": []
    },
    {
      "cell_type": "code",
      "source": [
        "def saliency_map2(image, c):  \n",
        "  \n",
        "  with tf.GradientTape() as tape:\n",
        "      # inputs = tf.cast(image, tf.float32)\n",
        "      inputs = tf.expand_dims(image, axis=0)\n",
        "      tape.watch(inputs)\n",
        "      predictions = model(inputs)\n",
        "      loss = predictions[:, c]\n",
        "\n",
        "  grads = tape.gradient(loss, inputs)\n",
        "\n",
        "  # take maximum across channels\n",
        "  grads = tf.reduce_max(grads, axis=-1)\n",
        "\n",
        "  # convert to numpy\n",
        "  grads = grads.numpy()\n",
        "\n",
        "  min_val, max_val = np.min(grads), np.max(grads)\n",
        "  smap = (grads - min_val) / (max_val - min_val + keras.backend.epsilon())\n",
        "\n",
        "  return smap"
      ],
      "metadata": {
        "id": "VxXg9Q5H5_In"
      },
      "execution_count": null,
      "outputs": []
    },
    {
      "cell_type": "code",
      "source": [
        "smap = saliency_map2(image, 8)\n",
        "smooth_saliency_map = smooth_smap(smap)"
      ],
      "metadata": {
        "id": "hGD8Be7K16TB"
      },
      "execution_count": null,
      "outputs": []
    },
    {
      "cell_type": "code",
      "source": [
        "fig, axes = plt.subplots(1,2,figsize=(15,5))\n",
        "axes[0].imshow(x_test[21])\n",
        "i = axes[1].imshow(smooth_saliency_map[0], cmap='Blues')\n",
        "fig.colorbar(i)"
      ],
      "metadata": {
        "colab": {
          "base_uri": "https://localhost:8080/",
          "height": 338
        },
        "id": "XH9F3mM7zI03",
        "outputId": "fcdf8b6d-8f72-438e-9d44-eef6619410fc"
      },
      "execution_count": null,
      "outputs": [
        {
          "output_type": "execute_result",
          "data": {
            "text/plain": [
              "<matplotlib.colorbar.Colorbar at 0x7f97b19ba100>"
            ]
          },
          "metadata": {},
          "execution_count": 516
        },
        {
          "output_type": "display_data",
          "data": {
            "text/plain": [
              "<Figure size 1080x360 with 3 Axes>"
            ],
            "image/png": "[encoded data removed]"
          },
          "metadata": {
            "needs_background": "light"
          }
        }
      ]
    },
    {
      "cell_type": "code",
      "source": [
        "fig, axes = plt.subplots(figsize=(15,5))\n",
        "axes.imshow(x_test[21])\n",
        "i = axes.imshow(smooth_saliency_map[0],cmap=\"Blues\",alpha=0.5)\n",
        "fig.colorbar(i)"
      ],
      "metadata": {
        "colab": {
          "base_uri": "https://localhost:8080/",
          "height": 338
        },
        "id": "TwrGQAkE4AAn",
        "outputId": "0eae9adb-80c6-4e8d-bbca-a1f41f1b4f2d"
      },
      "execution_count": null,
      "outputs": [
        {
          "output_type": "execute_result",
          "data": {
            "text/plain": [
              "<matplotlib.colorbar.Colorbar at 0x7f9804af4610>"
            ]
          },
          "metadata": {},
          "execution_count": 503
        },
        {
          "output_type": "display_data",
          "data": {
            "text/plain": [
              "<Figure size 1080x360 with 2 Axes>"
            ],
            "image/png": "[encoded data removed]"
          },
          "metadata": {
            "needs_background": "light"
          }
        }
      ]
    },
    {
      "cell_type": "code",
      "source": [
        "smap2 = saliency_map2(image, 6)\n",
        "smooth_saliency_map2 = smooth_smap(smap2)"
      ],
      "metadata": {
        "id": "11vFpxRT2Nn2"
      },
      "execution_count": null,
      "outputs": []
    },
    {
      "cell_type": "code",
      "source": [
        "fig, axes = plt.subplots(1,2,figsize=(15,5))\n",
        "axes[0].imshow(x_test[21])\n",
        "i = axes[1].imshow(smooth_saliency_map2[0], cmap='Blues')\n",
        "fig.colorbar(i)"
      ],
      "metadata": {
        "colab": {
          "base_uri": "https://localhost:8080/",
          "height": 338
        },
        "id": "XzIEdjeLziI2",
        "outputId": "a516f598-e2fd-4e1a-8d51-c707ddfe81ae"
      },
      "execution_count": null,
      "outputs": [
        {
          "output_type": "execute_result",
          "data": {
            "text/plain": [
              "<matplotlib.colorbar.Colorbar at 0x7f97b3ad6670>"
            ]
          },
          "metadata": {},
          "execution_count": 534
        },
        {
          "output_type": "display_data",
          "data": {
            "text/plain": [
              "<Figure size 1080x360 with 3 Axes>"
            ],
            "image/png": "[encoded data removed]"
          },
          "metadata": {
            "needs_background": "light"
          }
        }
      ]
    },
    {
      "cell_type": "code",
      "source": [
        "fig, axes = plt.subplots(figsize=(15,5))\n",
        "axes.imshow(x_test[21])\n",
        "i = axes.imshow(smooth_saliency_map2[0],cmap=\"Blues\",alpha=0.5)\n",
        "fig.colorbar(i)"
      ],
      "metadata": {
        "colab": {
          "base_uri": "https://localhost:8080/",
          "height": 338
        },
        "id": "B03arSCG4Kyh",
        "outputId": "4405b700-2beb-47c8-ba5d-ea3e5c968b60"
      },
      "execution_count": null,
      "outputs": [
        {
          "output_type": "execute_result",
          "data": {
            "text/plain": [
              "<matplotlib.colorbar.Colorbar at 0x7f97b3a083d0>"
            ]
          },
          "metadata": {},
          "execution_count": 535
        },
        {
          "output_type": "display_data",
          "data": {
            "text/plain": [
              "<Figure size 1080x360 with 2 Axes>"
            ],
            "image/png": "[encoded data removed]"
          },
          "metadata": {
            "needs_background": "light"
          }
        }
      ]
    },
    {
      "cell_type": "code",
      "source": [
        "smap_x = smap - smap2\n",
        "# smooth_saliency_mapx = smooth_smap(smap_x)"
      ],
      "metadata": {
        "id": "3oaC7FnE25YC"
      },
      "execution_count": null,
      "outputs": []
    },
    {
      "cell_type": "code",
      "source": [
        "fig, axes = plt.subplots()\n",
        "\n",
        "i = axes.imshow(smap_x[0], cmap='gist_rainbow')\n",
        "fig.colorbar(i)"
      ],
      "metadata": {
        "colab": {
          "base_uri": "https://localhost:8080/",
          "height": 283
        },
        "id": "DdqGmds8272d",
        "outputId": "53be2d18-6c7d-40e3-9b29-75913eb296e2"
      },
      "execution_count": null,
      "outputs": [
        {
          "output_type": "execute_result",
          "data": {
            "text/plain": [
              "<matplotlib.colorbar.Colorbar at 0x7f97b0c928e0>"
            ]
          },
          "metadata": {},
          "execution_count": 554
        },
        {
          "output_type": "display_data",
          "data": {
            "text/plain": [
              "<Figure size 432x288 with 2 Axes>"
            ],
            "image/png": "[encoded data removed]"
          },
          "metadata": {
            "needs_background": "light"
          }
        }
      ]
    },
    {
      "cell_type": "code",
      "source": [
        "smooth_saliency_mapx = smooth_smap(tf.cast(smap_x, tf.float32))\n",
        "fig, axes = plt.subplots(figsize=(15,5))\n",
        "\n",
        "i = axes.imshow(smooth_saliency_mapx[0], cmap='gist_rainbow')\n",
        "fig.colorbar(i)"
      ],
      "metadata": {
        "colab": {
          "base_uri": "https://localhost:8080/",
          "height": 338
        },
        "id": "wp1AVi1O7EcQ",
        "outputId": "b78ad11d-4af1-45dc-a8f4-eecce4716714"
      },
      "execution_count": null,
      "outputs": [
        {
          "output_type": "execute_result",
          "data": {
            "text/plain": [
              "<matplotlib.colorbar.Colorbar at 0x7f97b0c26b50>"
            ]
          },
          "metadata": {},
          "execution_count": 562
        },
        {
          "output_type": "display_data",
          "data": {
            "text/plain": [
              "<Figure size 1080x360 with 2 Axes>"
            ],
            "image/png": "[encoded data removed]"
          },
          "metadata": {
            "needs_background": "light"
          }
        }
      ]
    },
    {
      "cell_type": "markdown",
      "source": [
        "# Bonus"
      ],
      "metadata": {
        "id": "784bxz5J9G0r"
      }
    },
    {
      "cell_type": "markdown",
      "source": [
        "## Non-adversarial misclassification"
      ],
      "metadata": {
        "id": "uyOIYmgF-Col"
      }
    },
    {
      "cell_type": "markdown",
      "source": [
        "TO_DO\n",
        "\n",
        "1.   Get a misclassified image\n",
        "2.   Optimize the image so that is it classified correctly\n",
        "3.   Inspect what the optimization needed to change in the image to make the model detect it as the correct class \n",
        "\n"
      ],
      "metadata": {
        "id": "zGudWOWL-Ib1"
      }
    },
    {
      "cell_type": "code",
      "source": [],
      "metadata": {
        "id": "9F3-3Ppu984c"
      },
      "execution_count": null,
      "outputs": []
    },
    {
      "cell_type": "markdown",
      "source": [
        "## ! DO-NOT-RUN ! (Outputs are saved from previous task) "
      ],
      "metadata": {
        "id": "--r9pfTh9QCO"
      }
    },
    {
      "cell_type": "markdown",
      "source": [
        "Adversarial example made the model misclassify the image of a frog. Upon maximizing the activations of the first conv layer (pretty much edge detection) for a number of steps, the model was able to classify the image correctly as a frog"
      ],
      "metadata": {
        "id": "9xbW1tqk9e41"
      }
    },
    {
      "cell_type": "code",
      "source": [
        "input_img = adv_imgs[5]\n",
        "\n",
        "input_img = tf.Variable(input_img, dtype=tf.float32)\n",
        "\n",
        "input_img = tf.expand_dims(input_img, 0)"
      ],
      "metadata": {
        "id": "zJ1TuaAIHCbR"
      },
      "execution_count": null,
      "outputs": []
    },
    {
      "cell_type": "code",
      "source": [
        "fig, axes = plt.subplots(figsize=(15,5))\n",
        "axes.imshow(tf.squeeze(input_img, 0))\n",
        "x = tf.argmax(model(input_img), axis=-1)\n",
        "x = x[0]\n",
        "print(label_def[x])"
      ],
      "metadata": {
        "colab": {
          "base_uri": "https://localhost:8080/",
          "height": 338
        },
        "id": "nhd66865HGsa",
        "outputId": "46af109d-1d92-4510-8a8d-54926835c44a"
      },
      "execution_count": null,
      "outputs": [
        {
          "output_type": "stream",
          "name": "stdout",
          "text": [
            "cat\n"
          ]
        },
        {
          "output_type": "display_data",
          "data": {
            "text/plain": [
              "<Figure size 1080x360 with 1 Axes>"
            ],
            "image/png": "[encoded data removed]"
          },
          "metadata": {
            "needs_background": "light"
          }
        }
      ]
    },
    {
      "cell_type": "code",
      "source": [
        "grads, input_img = activation_max(input_img, 10)\n",
        "fig, axes = plt.subplots(figsize=(15,5))\n",
        "axes.imshow(tf.squeeze(input_img, 0))\n",
        "x = tf.argmax(model(input_img), axis=-1)\n",
        "x = x[0]\n",
        "print(label_def[x])"
      ],
      "metadata": {
        "colab": {
          "base_uri": "https://localhost:8080/",
          "height": 338
        },
        "id": "1uivTkZcScCK",
        "outputId": "de115dbe-8d7f-4b24-9bb9-12162dbe7c2b"
      },
      "execution_count": null,
      "outputs": [
        {
          "output_type": "stream",
          "name": "stdout",
          "text": [
            "frog\n"
          ]
        },
        {
          "output_type": "display_data",
          "data": {
            "text/plain": [
              "<Figure size 1080x360 with 1 Axes>"
            ],
            "image/png": "[encoded data removed]"
          },
          "metadata": {
            "needs_background": "light"
          }
        }
      ]
    }
  ]
}
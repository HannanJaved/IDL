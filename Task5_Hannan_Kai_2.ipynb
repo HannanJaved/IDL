{
  "nbformat": 4,
  "nbformat_minor": 0,
  "metadata": {
    "colab": {
      "provenance": [],
      "collapsed_sections": [
        "Pb9MukdWq--m",
        "DBPqvmNlrN4r",
        "cMB48AVM3dJ2",
        "M_TmE-U_JAic",
        "CXMRaFmArqD4",
        "FdyGjfJTXSRz",
        "1Euy0bLQw2aY",
        "zOcIp-ebUvk-",
        "YGJwe0hSVX7k",
        "9wcXiaqdfC_j",
        "7_JHU03NwuRQ",
        "ZUvIB94xr_mZ",
        "wHIxpGrYrs2n",
        "_RkN37FVs6dJ",
        "2rh-gNOvv3ox",
        "rc8kXC-mBD0M",
        "vt2DpvDgB29m",
        "3xMnV_cRB5Fi",
        "JiADxBRMB_aF",
        "OaYUfrg5dTZW",
        "f3JUPfqNwB8v",
        "QMnWbwMQdXYf",
        "V4b45tTUdjbu",
        "YFGmrE1ed1BF",
        "TxjZ3b4Dd6nH",
        "iMpE3WYaeFue",
        "USO7t8P6eLeV",
        "mMLS1IcHeRNF"
      ]
    },
    "kernelspec": {
      "name": "python3",
      "display_name": "Python 3"
    },
    "language_info": {
      "name": "python"
    }
  },
  "cells": [
    {
      "cell_type": "markdown",
      "source": [
        "# Assignment 5: Text Classification with RNNs (Part 1) - Kai Ponel & Hannan Mahadik"
      ],
      "metadata": {
        "id": "0iBp65QhqvYN"
      }
    },
    {
      "cell_type": "markdown",
      "source": [
        "# Imports"
      ],
      "metadata": {
        "id": "Pb9MukdWq--m"
      }
    },
    {
      "cell_type": "code",
      "execution_count": null,
      "metadata": {
        "id": "pjZJykLSqmBp"
      },
      "outputs": [],
      "source": [
        "import numpy as np\n",
        "import tensorflow as tf \n",
        "from tensorflow import keras\n",
        "from matplotlib import pyplot as plt\n",
        "\n",
        "from datetime import datetime\n",
        "import time"
      ]
    },
    {
      "cell_type": "markdown",
      "source": [
        "# Dataset"
      ],
      "metadata": {
        "id": "DBPqvmNlrN4r"
      }
    },
    {
      "cell_type": "code",
      "source": [
        "# remove infrequent words. you can play with this parameter as it will likely impact model quality\n",
        "# larger vocabulary provided worse results or took too long to train\n",
        "# 2000 words were enough for the model to be able to (mostly) correctly classify the 'sentiment' of the reviews. \n",
        "num_words = 2000\n",
        "seq_len = 200\n",
        "\n",
        "(train_sequences, train_labels), (test_sequences, test_labels) = tf.keras.datasets.imdb.load_data(num_words=num_words)"
      ],
      "metadata": {
        "id": "N86vfUF-rQ1r"
      },
      "execution_count": null,
      "outputs": []
    },
    {
      "cell_type": "code",
      "source": [
        "# padding all sequences to a predefined seq_len\n",
        "train_sequences = tf.keras.preprocessing.sequence.pad_sequences(train_sequences, maxlen=seq_len, truncating='pre')\n",
        "test_sequences = tf.keras.preprocessing.sequence.pad_sequences(test_sequences, maxlen=seq_len, truncating='pre')"
      ],
      "metadata": {
        "id": "eZdFm5TWDTlu"
      },
      "execution_count": null,
      "outputs": []
    },
    {
      "cell_type": "markdown",
      "source": [
        "# RNN"
      ],
      "metadata": {
        "id": "CXMRaFmArqD4"
      }
    },
    {
      "cell_type": "markdown",
      "source": [
        "## Many-to-One"
      ],
      "metadata": {
        "id": "FdyGjfJTXSRz"
      }
    },
    {
      "cell_type": "markdown",
      "source": [
        "![Many2oneRNN.png](data:image/png;base64,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)"
      ],
      "metadata": {
        "id": "jCTHaKkGWtaM"
      }
    },
    {
      "cell_type": "markdown",
      "source": [
        "## Model with custom Keras layer\n",
        "A model consisting of a custom RNN layer and a Dense layer instead of manually multiplying the output state with weights 'V' "
      ],
      "metadata": {
        "id": "7_JHU03NwuRQ"
      }
    },
    {
      "cell_type": "markdown",
      "source": [
        "### Rnn_layer"
      ],
      "metadata": {
        "id": "ZUvIB94xr_mZ"
      }
    },
    {
      "cell_type": "code",
      "source": [
        "class Rnn_layer(keras.layers.Layer):\n",
        "\n",
        "  def __init__(self, initializer, regularizer, hidden_units, **kwargs):\n",
        "    super(Rnn_layer, self).__init__(**kwargs)\n",
        "    self.initializer = initializer\n",
        "    self.regularizer = regularizer\n",
        "    self.hidden_units = hidden_units\n",
        "\n",
        "\n",
        "  def get_config(self):\n",
        "      config = super().get_config().copy()\n",
        "      config.update({\n",
        "          'initializer': self.initializer,\n",
        "          'regularizer': self.regularizer,\n",
        "          'hidden_units': self.hidden_units\n",
        "      })\n",
        "      return config\n",
        "\n",
        "\n",
        "  def build(self, input_shape):\n",
        "\n",
        "    # shape of the 'W' weights\n",
        "    h_weight = (self.hidden_units, self.hidden_units)\n",
        "    self.W = tf.Variable(self.initializer(shape=h_weight))\n",
        "\n",
        "    # shape of the 'U' weights\n",
        "    i_weight = (num_words, self.hidden_units)\n",
        "    self.U = tf.Variable(self.initializer(shape=i_weight))\n",
        "\n",
        "    # shape of the bias\n",
        "    bias = (1, self.hidden_units)\n",
        "    self.b = tf.Variable(tf.zeros(bias))\n",
        "\n",
        "    # Relu activation - can also use tanh instead (did not test)\n",
        "    self.activation = keras.activations.relu \n",
        "\n",
        "\n",
        "  @tf.function\n",
        "  def call(self, sequences):\n",
        "    \n",
        "    # initialized initial state with zeros\n",
        "    h = tf.zeros((1, self.hidden_units))\n",
        "\n",
        "    for step in range(seq_len):\n",
        "      x_t = sequences[:, step]\n",
        "      x_t = tf.one_hot(x_t, depth=num_words)\n",
        "      # Matmul of weights and states/inputs passed through an activation function\n",
        "      h = self.activation(h @ self.W + x_t @ self.U + self.b)\n",
        "\n",
        "    return h"
      ],
      "metadata": {
        "id": "wjovl0tqsBjf"
      },
      "execution_count": null,
      "outputs": []
    },
    {
      "cell_type": "markdown",
      "source": [
        "### Model Architecture"
      ],
      "metadata": {
        "id": "wHIxpGrYrs2n"
      }
    },
    {
      "cell_type": "code",
      "source": [
        "optimizer = keras.optimizers.Adam()\n",
        "loss_fn = keras.losses.BinaryCrossentropy(from_logits=True)\n",
        "metrics = [keras.metrics.BinaryAccuracy()]"
      ],
      "metadata": {
        "id": "WKcd8Q_nsq1j"
      },
      "execution_count": null,
      "outputs": []
    },
    {
      "cell_type": "code",
      "source": [
        "hidden_units = 100\n",
        "initializer = keras.initializers.HeNormal()\n",
        "regularizer = keras.regularizers.L2(1e-4)"
      ],
      "metadata": {
        "id": "BZHTqXZrjNyV"
      },
      "execution_count": null,
      "outputs": []
    },
    {
      "cell_type": "code",
      "source": [
        "model = tf.keras.models.Sequential([\n",
        "  Rnn_layer(hidden_units=hidden_units, initializer=initializer, regularizer=regularizer),\n",
        "  tf.keras.layers.Dense(1)\n",
        "])"
      ],
      "metadata": {
        "id": "SCCHiXJeCA9u"
      },
      "execution_count": null,
      "outputs": []
    },
    {
      "cell_type": "code",
      "source": [
        "model.compile(optimizer=optimizer, loss=loss_fn, metrics=metrics)"
      ],
      "metadata": {
        "id": "RVzF-E44s2W3"
      },
      "execution_count": null,
      "outputs": []
    },
    {
      "cell_type": "markdown",
      "source": [
        "### Train"
      ],
      "metadata": {
        "id": "_RkN37FVs6dJ"
      }
    },
    {
      "cell_type": "code",
      "source": [
        "rnn_model1 = model.fit(train_sequences, train_labels, batch_size = 100, epochs = 5, validation_data = (test_sequences, test_labels))"
      ],
      "metadata": {
        "id": "QCSifmDZs8Bb",
        "colab": {
          "base_uri": "https://localhost:8080/"
        },
        "outputId": "69b150c5-a4c1-49c6-970e-69aefdfde596"
      },
      "execution_count": null,
      "outputs": [
        {
          "output_type": "stream",
          "name": "stdout",
          "text": [
            "Epoch 1/5\n",
            "250/250 [==============================] - 307s 1s/step - loss: 6.9022 - binary_accuracy: 0.5020 - val_loss: 0.6817 - val_binary_accuracy: 0.5156\n",
            "Epoch 2/5\n",
            "250/250 [==============================] - 282s 1s/step - loss: 0.6597 - binary_accuracy: 0.5335 - val_loss: 0.6527 - val_binary_accuracy: 0.5471\n",
            "Epoch 3/5\n",
            "250/250 [==============================] - 253s 1s/step - loss: 0.5943 - binary_accuracy: 0.6279 - val_loss: 0.5931 - val_binary_accuracy: 0.6044\n",
            "Epoch 4/5\n",
            "250/250 [==============================] - 281s 1s/step - loss: 0.5087 - binary_accuracy: 0.7288 - val_loss: 0.5152 - val_binary_accuracy: 0.7517\n",
            "Epoch 5/5\n",
            "250/250 [==============================] - 270s 1s/step - loss: 0.4037 - binary_accuracy: 0.8090 - val_loss: 0.4534 - val_binary_accuracy: 0.8099\n"
          ]
        }
      ]
    },
    {
      "cell_type": "markdown",
      "source": [
        "### Evaluation"
      ],
      "metadata": {
        "id": "2rh-gNOvv3ox"
      }
    },
    {
      "cell_type": "code",
      "source": [
        "plt.plot(rnn_model1.history['binary_accuracy'], label='accuracy')\n",
        "plt.plot(rnn_model1.history['val_binary_accuracy'], label = 'val_accuracy')\n",
        "plt.xlabel('Epoch')\n",
        "plt.ylabel('Accuracy')\n",
        "plt.ylim([0.5, 0.85])\n",
        "plt.legend(loc='lower right')\n",
        "\n",
        "test_loss, test_acc = model.evaluate(test_sequences, test_labels, verbose=2)"
      ],
      "metadata": {
        "id": "q1MwA7wsv4_I",
        "colab": {
          "base_uri": "https://localhost:8080/",
          "height": 300
        },
        "outputId": "6e71c33c-5185-45eb-a444-f8e49fbeeb16"
      },
      "execution_count": null,
      "outputs": [
        {
          "output_type": "stream",
          "name": "stdout",
          "text": [
            "782/782 - 70s - loss: 0.4534 - binary_accuracy: 0.8099 - 70s/epoch - 90ms/step\n"
          ]
        },
        {
          "output_type": "display_data",
          "data": {
            "text/plain": [
              "<Figure size 432x288 with 1 Axes>"
            ],
            "image/png": "[encoded data removed]"
          },
          "metadata": {
            "needs_background": "light"
          }
        }
      ]
    },
    {
      "cell_type": "markdown",
      "metadata": {
        "id": "rc8kXC-mBD0M"
      },
      "source": [
        "## Experimental Keras Model\n",
        "This model does not use the default keras Dense layer but rather a weight 'V' for the output. This model shows potential and had an increase in test accuracy with every epoch, but took longer (more epochs for comparable results) to train. (probably due to a lack of default optimization methods that might be implemented in the default keras Dense layer)"
      ]
    },
    {
      "cell_type": "markdown",
      "metadata": {
        "id": "vt2DpvDgB29m"
      },
      "source": [
        "### Rnn_layer"
      ]
    },
    {
      "cell_type": "code",
      "execution_count": null,
      "metadata": {
        "id": "Dbo7O3BWBDYw"
      },
      "outputs": [],
      "source": [
        "class Rnn_layer2(keras.layers.Layer):\n",
        "\n",
        "  def __init__(self, initializer, regularizer, hidden_units, **kwargs):\n",
        "    super(Rnn_layer2, self).__init__(**kwargs)\n",
        "    self.initializer = initializer\n",
        "    self.regularizer = regularizer\n",
        "    self.hidden_units = hidden_units\n",
        "\n",
        "\n",
        "  def get_config(self):\n",
        "      config = super().get_config().copy()\n",
        "      config.update({\n",
        "          'initializer': self.initializer,\n",
        "          'regularizer': self.regularizer,\n",
        "          'hidden_units': self.hidden_units\n",
        "      })\n",
        "      return config\n",
        "\n",
        "\n",
        "  def build(self, input_shape):\n",
        "\n",
        "    h_weight = (self.hidden_units, self.hidden_units)\n",
        "    self.W = tf.Variable(self.initializer(shape=h_weight))\n",
        "\n",
        "    i_weight = (num_words, self.hidden_units)\n",
        "    self.U = tf.Variable(self.initializer(shape=i_weight))\n",
        "\n",
        "    bias = (1, self.hidden_units)\n",
        "    self.b = tf.Variable(tf.zeros(bias))\n",
        "\n",
        "    v_weight = (self.hidden_units, 1)\n",
        "    self.V = tf.Variable(self.initializer(shape=v_weight))\n",
        "\n",
        "    # self.activation = keras.activations.relu\n",
        "    self.activation = keras.activations.tanh\n",
        "\n",
        "\n",
        "  @tf.function\n",
        "  def call(self, sequences):\n",
        "\n",
        "    h = tf.zeros((1, self.hidden_units))\n",
        "\n",
        "    for step in range(seq_len):\n",
        "      x_t = sequences[:, step]\n",
        "      x_t = tf.one_hot(x_t, depth=num_words)\n",
        "      h = self.activation(h @ self.W + x_t @ self.U + self.b)\n",
        "\n",
        "    # The extra output layer function (an additional output bias could be added too) \n",
        "    h = h @ self.V\n",
        "    \n",
        "    return h"
      ]
    },
    {
      "cell_type": "markdown",
      "metadata": {
        "id": "3xMnV_cRB5Fi"
      },
      "source": [
        "### Model Architecture"
      ]
    },
    {
      "cell_type": "code",
      "source": [
        "optimizer = keras.optimizers.Adam()\n",
        "loss_fn = keras.losses.BinaryCrossentropy(from_logits=True)\n",
        "metrics = [keras.metrics.BinaryAccuracy()]"
      ],
      "metadata": {
        "id": "aI2mfjldQXqI"
      },
      "execution_count": null,
      "outputs": []
    },
    {
      "cell_type": "code",
      "execution_count": null,
      "metadata": {
        "id": "fbzob42mBMnY"
      },
      "outputs": [],
      "source": [
        "hidden_units = 100\n",
        "initializer = keras.initializers.HeNormal()\n",
        "regularizer = keras.regularizers.L2(1e-4)"
      ]
    },
    {
      "cell_type": "code",
      "execution_count": null,
      "metadata": {
        "id": "k6-X7hwmBMnY"
      },
      "outputs": [],
      "source": [
        "model2 = tf.keras.models.Sequential([\n",
        "  Rnn_layer2(hidden_units=hidden_units, initializer=initializer, regularizer=regularizer)\n",
        "])"
      ]
    },
    {
      "cell_type": "code",
      "execution_count": null,
      "metadata": {
        "id": "B8VC2lkFBMnY"
      },
      "outputs": [],
      "source": [
        "model2.compile(optimizer=optimizer, loss=loss_fn, metrics=metrics)"
      ]
    },
    {
      "cell_type": "markdown",
      "metadata": {
        "id": "JiADxBRMB_aF"
      },
      "source": [
        "### Train\n",
        "The dataset used for this was given an additional argument (skip_top=10), which resulted in better accuracy/faster training. Without the argument, the model showed around 62% test accuracy after 5 epochs."
      ]
    },
    {
      "cell_type": "code",
      "execution_count": null,
      "metadata": {
        "id": "YtOKUKZ2B_aF",
        "colab": {
          "base_uri": "https://localhost:8080/"
        },
        "outputId": "ee8187f4-379e-4b05-9c87-5c63bde526f1"
      },
      "outputs": [
        {
          "output_type": "stream",
          "name": "stdout",
          "text": [
            "Epoch 1/5\n",
            "250/250 [==============================] - 231s 885ms/step - loss: 0.6979 - binary_accuracy: 0.5019 - val_loss: 0.6975 - val_binary_accuracy: 0.5094\n",
            "Epoch 2/5\n",
            "250/250 [==============================] - 216s 865ms/step - loss: 0.6878 - binary_accuracy: 0.5056 - val_loss: 0.6836 - val_binary_accuracy: 0.5060\n",
            "Epoch 3/5\n",
            "250/250 [==============================] - 217s 868ms/step - loss: 0.6759 - binary_accuracy: 0.5174 - val_loss: 0.6716 - val_binary_accuracy: 0.5235\n",
            "Epoch 4/5\n",
            "250/250 [==============================] - 214s 856ms/step - loss: 0.6404 - binary_accuracy: 0.5620 - val_loss: 0.6038 - val_binary_accuracy: 0.6136\n",
            "Epoch 5/5\n",
            "250/250 [==============================] - 202s 810ms/step - loss: 0.5163 - binary_accuracy: 0.7118 - val_loss: 0.4365 - val_binary_accuracy: 0.7678\n"
          ]
        }
      ],
      "source": [
        "rnn_model2 = model2.fit(train_sequences, train_labels, batch_size = 100, epochs = 5, validation_data = (test_sequences, test_labels))"
      ]
    },
    {
      "cell_type": "markdown",
      "source": [
        "# Food for Thought Questions"
      ],
      "metadata": {
        "id": "OaYUfrg5dTZW"
      }
    },
    {
      "cell_type": "markdown",
      "source": [
        "## Extra\n",
        "You may sometimes get a higher test accuracy, while the test loss is also increasing (how can this be?)!"
      ],
      "metadata": {
        "id": "f3JUPfqNwB8v"
      }
    },
    {
      "cell_type": "markdown",
      "source": [
        "If the loss increases and the accuracy increase too is because your regularization techniques are working well and you're fighting the overfitting problem."
      ],
      "metadata": {
        "id": "dnID40xtwBWe"
      }
    },
    {
      "cell_type": "markdown",
      "source": [
        "## Question 1:\n",
        "All sequences are padded to the length of the longest sequence in the dataset. Why is this wasteful? Can you think of a smarter padding scheme that is more efficient? Consider the fact that RNNs can work on arbitrary sequence lengths, and that training minibatches are pretty much independent of each other."
      ],
      "metadata": {
        "id": "QMnWbwMQdXYf"
      }
    },
    {
      "cell_type": "markdown",
      "source": [
        "There can be extremely short sequences that may need to be padded with a lot of 0s to ensure every sequence has the same length. Maybe we can create batches out of sequences and then pad them according to the longest sequence in that particular batch."
      ],
      "metadata": {
        "id": "42d7EifvQJWx"
      }
    },
    {
      "cell_type": "markdown",
      "source": [
        "## Question 2:\n",
        "Between truncating long sequences and removing them, which option do you think is better? Why?"
      ],
      "metadata": {
        "id": "V4b45tTUdjbu"
      }
    },
    {
      "cell_type": "markdown",
      "source": [
        "I think it is better to truncate long sequences as it could be possible that certain long sequences are necessary to train the model to classify a certain output. "
      ],
      "metadata": {
        "id": "smZ4ZTG_Z83B"
      }
    },
    {
      "cell_type": "markdown",
      "source": [
        "## Question 3:\n",
        "Can you think of a way to avoid the one-hot vectors completely? Even if you cannot implement it, a conceptual idea is fine."
      ],
      "metadata": {
        "id": "YFGmrE1ed1BF"
      }
    },
    {
      "cell_type": "markdown",
      "source": [
        "a one-hot is a group of bits among which the legal combinations of values are only those with a single high (1) bit and all the others low (0)\n",
        "-> Instead, use word vectors to generate word embeddings, which are \"..a real number, vector representation of a word... words with similar meaning will have vector representations that are close together in the embedding space\" "
      ],
      "metadata": {
        "id": "1VAXpDB2aWpF"
      }
    },
    {
      "cell_type": "markdown",
      "source": [
        "## Question 4:\n",
        "For the output and loss, you actually have two options:\n",
        "\n",
        "1.   You could have an output layer with 2 units, and use sparse categorical cross-entropy as before (i.e. softmax activation). Here, whichever output is higher “wins”.\n",
        "2.   You can have a single output unit and use binary cross-entropy (i.e. sigmoid activation). Here, the output is usually thresholded at 0.5.\n",
        "\n",
        "How can it be that we can choose how many outputs we have, i.e. how can both be correct? Are there differences between both choices as well as (dis)advantages relative to each other?"
      ],
      "metadata": {
        "id": "TxjZ3b4Dd6nH"
      }
    },
    {
      "cell_type": "markdown",
      "source": [
        "Using categorical cross-entropy we provide a classification, let's say 1 or 0, based on the outputs of both output units. The higher value is considered as the prediction. We do the same thing in binary cross-entropy by having just one output unit and providing a threshold. Any value above the threshold can be classified as 1, and anything below as 0. So these two methods technically do the same thing. \n",
        "\n",
        "---\n",
        "(Dis)Advantages?"
      ],
      "metadata": {
        "id": "T506CDtyd13w"
      }
    },
    {
      "cell_type": "markdown",
      "source": [
        "## Question 5:\n",
        "All sequences start with the same special “beginning of sequence” token (coded by index 1). Given this fact, is there a point in learning an initial state? Why (not)?"
      ],
      "metadata": {
        "id": "iMpE3WYaeFue"
      }
    },
    {
      "cell_type": "markdown",
      "source": [
        "\"If there are enough sequences or state resets in the training data (e.g., this will often be the case if we are doing sequence classification), it may make sense to train the initial state as a variable. This way, the model can learn a good default state. If we have only a few state resets, however, training the initial state as a variable may result in overfitting on the start of each sequence.\""
      ],
      "metadata": {
        "id": "tMzGwW05cJWH"
      }
    },
    {
      "cell_type": "markdown",
      "source": [
        "## Question 6:\n",
        "pad_sequences allows for pre or post padding. Try both to see the difference. Which option do you think is better? Recall that we use the final time step output from our model."
      ],
      "metadata": {
        "id": "USO7t8P6eLeV"
      }
    },
    {
      "cell_type": "markdown",
      "source": [
        "Pre padding provided better results.\n",
        "Since we use the final time step output, by pre-padding the sequences, all the zeros would appear at the start, i.e., further away from the output. This ensures that the actual information is closer to the output. (short/long term dependencies?)"
      ],
      "metadata": {
        "id": "NguOn506cQ6r"
      }
    },
    {
      "cell_type": "markdown",
      "source": [
        "## Question 7:\n",
        "Can you think of a way to prevent the RNN from computing new states on padded time steps? One idea might be to “pass through” the previous state in case the current time step is padding. Note that, within a batch, some sequences might be padded for a given time step while others are not."
      ],
      "metadata": {
        "id": "mMLS1IcHeRNF"
      }
    },
    {
      "cell_type": "markdown",
      "source": [
        "We can use the mask parameter, as seen in the Keras RNN layer - \"mask: Binary tensor of shape [batch_size, timesteps] indicating whether a given timestep should be masked. An individual True entry indicates that the corresponding timestep should be utilized, while a False entry indicates that the corresponding timestep should be ignored.\""
      ],
      "metadata": {
        "id": "apqTxxczc8th"
      }
    },
    {
      "cell_type": "markdown",
      "source": [
        "## Question 8:\n",
        "\n",
        "\n",
        "*  Instead of only using the final output, average (or sum?) the logits (pre-sigmoid) of all time steps and use this as the output instead.\n",
        "*  Instead of the logits, average the states at all time steps and compute the output based on this average state. Is this different from the above option?\n",
        "*  Compute logits and sigmoids for each output, and average the per-step probabilities.\n",
        "\n",
        "\n",
        "What could be the advantage of using methods like the above? What are disadvantages? Can you think of other methods to incorporate the full output sequence instead of just the final step?"
      ],
      "metadata": {
        "id": "gFyMmDoheWRG"
      }
    }
  ]
}
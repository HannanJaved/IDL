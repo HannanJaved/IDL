{
  "nbformat": 4,
  "nbformat_minor": 0,
  "metadata": {
    "colab": {
      "provenance": [],
      "collapsed_sections": [
        "Ca5liZ3s9fuK",
        "WG03MGMq9lhl",
        "lCtSLLRZOhoQ"
      ]
    },
    "kernelspec": {
      "name": "python3",
      "display_name": "Python 3"
    },
    "language_info": {
      "name": "python"
    }
  },
  "cells": [
    {
      "cell_type": "markdown",
      "source": [
        "# Assignment 1: Let the Tensors Flow - Hannan Mahadik"
      ],
      "metadata": {
        "id": "o-MBDiQUwM5c"
      }
    },
    {
      "cell_type": "markdown",
      "source": [
        "\n",
        "## Imports"
      ],
      "metadata": {
        "id": "jxjEY1Cn9BC4"
      }
    },
    {
      "cell_type": "code",
      "source": [
        "from google.colab import drive; \n",
        "drive.mount('/content/drive/', force_remount=True)\n",
        "\n",
        "import os\n",
        "os.chdir(\"/content/drive/MyDrive/ColabNotebooks/Intro to Deep Learning\")\n",
        "\n",
        "import tensorflow as tf\n",
        "import numpy as np\n",
        "import matplotlib.pyplot as plt\n",
        "from functools import partial\n",
        "\n",
        "from datasets import MNISTDataset"
      ],
      "metadata": {
        "id": "nTeXTVhsBXcQ",
        "colab": {
          "base_uri": "https://localhost:8080/"
        },
        "outputId": "6e51e0a3-612d-4aaa-e483-d4290ad4d8a0"
      },
      "execution_count": null,
      "outputs": [
        {
          "output_type": "stream",
          "name": "stdout",
          "text": [
            "Mounted at /content/drive/\n"
          ]
        }
      ]
    },
    {
      "cell_type": "markdown",
      "source": [
        "## Load MNIST Dataset "
      ],
      "metadata": {
        "id": "utU3OUV69Zjw"
      }
    },
    {
      "cell_type": "code",
      "source": [
        "mnist = tf.keras.datasets.mnist\n",
        "(train_images, train_labels), (test_images, test_labels) = mnist.load_data()\n",
        "\n",
        "# we can look at any of the images and the corresponding labels\n",
        "# say, image no. 155\n",
        "plt.imshow(train_images[155], cmap=\"Greys_r\")\n",
        "plt.show()\n",
        "print(train_labels[155])\n",
        "\n",
        "# images are \"flattened\" into vectors\n",
        "data = MNISTDataset(train_images.reshape([-1, 28*28]), train_labels, \n",
        "                    test_images.reshape([-1, 28*28]), test_labels,\n",
        "                    batch_size=128)"
      ],
      "metadata": {
        "colab": {
          "base_uri": "https://localhost:8080/",
          "height": 282
        },
        "id": "KeGoRMVeCSCo",
        "outputId": "ea719cc9-2828-4847-db91-c1c4ad9abba7"
      },
      "execution_count": null,
      "outputs": [
        {
          "output_type": "display_data",
          "data": {
            "text/plain": [
              "<Figure size 432x288 with 1 Axes>"
            ],
            "image/png": "[encoded data removed]"
          },
          "metadata": {
            "needs_background": "light"
          }
        },
        {
          "output_type": "stream",
          "name": "stdout",
          "text": [
            "6\n"
          ]
        }
      ]
    },
    {
      "cell_type": "markdown",
      "source": [
        "## Visualization - Flattening"
      ],
      "metadata": {
        "id": "9-L6eVXAdwyp"
      }
    },
    {
      "cell_type": "code",
      "source": [
        "# here is an attempt at illustrating what flattening looks like\n",
        "reshaped = train_images[155].reshape((1, 28*28))\n",
        "plt.figure(figsize=(15, 0.1))\n",
        "plt.pcolormesh(reshaped, cmap=\"Greys_r\")\n",
        "plt.show()"
      ],
      "metadata": {
        "colab": {
          "base_uri": "https://localhost:8080/",
          "height": 57
        },
        "id": "04bwLKFdds-i",
        "outputId": "eaa3c4be-cc4e-4233-cd4f-065776f5456f"
      },
      "execution_count": null,
      "outputs": [
        {
          "output_type": "display_data",
          "data": {
            "text/plain": [
              "<Figure size 1080x7.2 with 1 Axes>"
            ],
            "image/png": "[encoded data removed]"
          },
          "metadata": {
            "needs_background": "light"
          }
        }
      ]
    },
    {
      "cell_type": "markdown",
      "source": [
        "## Convert Images to NP Arrays"
      ],
      "metadata": {
        "id": "1V3poJ5gd0UY"
      }
    },
    {
      "cell_type": "code",
      "source": [
        "train_images = train_images.astype(np.float32) / 255\n",
        "test_images = test_images.astype(np.float32) / 255"
      ],
      "metadata": {
        "id": "uFUGUouTdvcM"
      },
      "execution_count": null,
      "outputs": []
    },
    {
      "cell_type": "markdown",
      "source": [
        "## Parameter Initialization\n"
      ],
      "metadata": {
        "id": "Ca5liZ3s9fuK"
      }
    },
    {
      "cell_type": "code",
      "source": [
        "# define the linear model\n",
        "# weight dimensions are completely determined by input/output dimensions\n",
        "W = tf.Variable(np.zeros([28*28, 10]).astype(np.float32))\n",
        "b = tf.Variable(np.zeros(10, dtype=np.float32))\n",
        "\n",
        "def model(inputs):\n",
        "    return tf.matmul(inputs, W) + b\n",
        "\n",
        "# NOTE\n",
        "# the ONLY thing that you should have to change for a working MLP is to\n",
        "# - add more variables\n",
        "# - adapt the model function (don't forget activation functions)\n",
        "# - add the new variables in the gradient call/update below\n",
        "\n",
        "# parameters for the training process\n",
        "# this already offers potential for experimentation\n",
        "# - how many steps do we actually need to reach acceptable performance?\n",
        "# - what if we train for some absurd number of steps?\n",
        "# - what happens if we increase/decrease the learning rate?\n",
        "# - do learning rate and number of steps interact?\n",
        "# - ...\n",
        "train_steps = 2000\n",
        "learning_rate = 0.1"
      ],
      "metadata": {
        "id": "2DQxWKlFCSyW"
      },
      "execution_count": null,
      "outputs": []
    },
    {
      "cell_type": "markdown",
      "source": [
        "## Training (Original Model)"
      ],
      "metadata": {
        "id": "WG03MGMq9lhl"
      }
    },
    {
      "cell_type": "code",
      "source": [
        "# training loop\n",
        "for step in range(train_steps+1):\n",
        "    image_batch, label_batch = data.next_batch()\n",
        "\n",
        "    with tf.GradientTape() as tape:\n",
        "        logits = model(image_batch)\n",
        "        xent = tf.reduce_mean(tf.nn.sparse_softmax_cross_entropy_with_logits(\n",
        "            logits=logits, labels=label_batch))\n",
        "        \n",
        "    grads = tape.gradient(xent, [W, b])\n",
        "    W.assign_sub(learning_rate * grads[0])\n",
        "    b.assign_sub(learning_rate * grads[1])\n",
        "    \n",
        "    # every so often we print loss/accuracy\n",
        "    if not step % 100:\n",
        "        preds = tf.argmax(logits, axis=1, output_type=tf.int32)\n",
        "        acc = tf.reduce_mean(tf.cast(tf.equal(preds, label_batch),\n",
        "                             tf.float32))\n",
        "        print(\"Step {}. Batch loss: {} Batch accuracy: {}\".format(step+1, xent, acc))\n"
      ],
      "metadata": {
        "id": "De63j8C1CUta"
      },
      "execution_count": null,
      "outputs": []
    },
    {
      "cell_type": "markdown",
      "source": [
        "\n",
        "## Deep Model"
      ],
      "metadata": {
        "id": "IcRiy5jCHQQq"
      }
    },
    {
      "cell_type": "code",
      "source": [
        "# Module - A named container for tf.Variables\n",
        "class mlp(tf.Module):\n",
        "  \n",
        "  def __init__(self, units_per_layer, activation_function, name=None):\n",
        "\n",
        "    # initialization\n",
        "    self.activation_function = activation_function\n",
        "    self.layers = len(units_per_layer) \n",
        "    self.params = {}\n",
        "\n",
        "    # weight and bias initialization for the hidden layers\n",
        "    for layer in range(1, self.layers):\n",
        "\n",
        "      # Input of hidden layer 2 = output of hidden layer 1\n",
        "      input_size = units_per_layer[layer - 1] \n",
        "      output_size = units_per_layer[layer] \n",
        "\n",
        "      # Weights cannot be zero => Initialized with values close to zero\n",
        "      weights = \"w{}\".format(layer)\n",
        "      self.params[weights] = tf.Variable(\n",
        "          np.random.randn(input_size, output_size).astype(np.float32) * 0.01, \n",
        "          name = weights\n",
        "      )\n",
        "\n",
        "      # Bias initialized as zero (same as 'shallow' model) \n",
        "      bias = \"b{}\".format(layer)\n",
        "      self.params[bias] = tf.Variable(\n",
        "          np.zeros(output_size, dtype = np.float32), \n",
        "          name = bias\n",
        "      )\n",
        "\n",
        "\n",
        "  def __call__(self, x):\n",
        "\n",
        "    logits = self.logits(x)\n",
        "\n",
        "    # Logits are 'pre-softmax values' => apply softmax activation function\n",
        "    activation_function = tf.nn.softmax(logits, axis = 1)\n",
        "\n",
        "    return activation_function\n",
        "\n",
        "\n",
        "  def logits(self, x):\n",
        "    activation = x\n",
        "\n",
        "    # Assign each of the hidden layers with an input and activation function\n",
        "    for layer in range(1, self.layers-1):\n",
        "      weights, bias = \"w{}\".format(layer), \"b{}\".format(layer)\n",
        "      z = activation @ self.params[weights] + self.params[bias]\n",
        "      activation = self.activation_function(z)\n",
        "\n",
        "    # Output layer \n",
        "    weights, bias = \"w{}\".format(self.layers-1), \"b{}\".format(self.layers-1)\n",
        "    logits = activation @ self.params[weights] + self.params[bias]\n",
        "\n",
        "    return logits"
      ],
      "metadata": {
        "id": "FDURNKJsCs_F"
      },
      "execution_count": null,
      "outputs": []
    },
    {
      "cell_type": "markdown",
      "source": [
        "## Model Specification"
      ],
      "metadata": {
        "id": "JoEhWKlaBP7-"
      }
    },
    {
      "cell_type": "code",
      "source": [
        "# Function for easy customization of number of units, layers, and activation function\n",
        "def results(x):\n",
        "\n",
        "  no_of_units = x['units']\n",
        "  no_of_layers = x['layers']\n",
        "  \n",
        "  model = [28*28] + [no_of_units for _ in range(no_of_layers)] + [10]\n",
        "\n",
        "  result = train(mlp(model, x['activation_function']), data, \n",
        "                 training_steps = x['train_steps'], \n",
        "                 learning_rate = x['learning_rate'])"
      ],
      "metadata": {
        "id": "fr7u3Mnifu03"
      },
      "execution_count": null,
      "outputs": []
    },
    {
      "cell_type": "markdown",
      "source": [
        "## Training (MLP)"
      ],
      "metadata": {
        "id": "RGIpJ6AHHXJb"
      }
    },
    {
      "cell_type": "code",
      "source": [
        "def train(model, data, training_steps, learning_rate):\n",
        "\n",
        "  for step in range(1, training_steps + 1):\n",
        "    image_batch, label_batch = data.next_batch()\n",
        "\n",
        "    with tf.GradientTape() as tape:\n",
        "      logits = model.logits(image_batch)\n",
        "      xent = tf.reduce_mean(tf.nn.sparse_softmax_cross_entropy_with_logits(\n",
        "          logits=logits, labels=label_batch))\n",
        "\n",
        "    grads = tape.gradient(xent, model.variables)\n",
        "\n",
        "    # Perform one step of gradient descent\n",
        "    for (variable, gradient) in zip(model.variables, grads):\n",
        "      variable.assign_sub(learning_rate * gradient)\n",
        "     \n",
        "    # every so often we print loss/accuracy \n",
        "    if not step % 100:\n",
        "      preds = tf.argmax(logits, axis=1, output_type=tf.int32)\n",
        "      acc = tf.reduce_mean(tf.cast(tf.equal(preds, label_batch),tf.float32))\n",
        "\n",
        "      print(\"Step {}. Batch loss: {} Batch accuracy: {}\".format(step+1, xent, acc))"
      ],
      "metadata": {
        "id": "iJzBcoKc-zmP"
      },
      "execution_count": null,
      "outputs": []
    },
    {
      "cell_type": "markdown",
      "source": [
        "# Test"
      ],
      "metadata": {
        "id": "y7rqLpLpHcAB"
      }
    },
    {
      "cell_type": "markdown",
      "source": [
        "## Test (Original Model)"
      ],
      "metadata": {
        "id": "lCtSLLRZOhoQ"
      }
    },
    {
      "cell_type": "code",
      "source": [
        "# test_preds = tf.argmax(tf.matmul(data.test_data, W) + b, axis=1,\n",
        "#                        output_type=tf.int32)\n",
        "# acc = tf.reduce_mean(tf.cast(tf.equal(test_preds, data.test_labels),\n",
        "#                              tf.float32))\n",
        "# print(acc)"
      ],
      "metadata": {
        "id": "iG4g7jq4CXm7"
      },
      "execution_count": null,
      "outputs": []
    },
    {
      "cell_type": "markdown",
      "source": [
        "## Test (Deep Model)"
      ],
      "metadata": {
        "id": "aRSpx51fOth3"
      }
    },
    {
      "cell_type": "code",
      "source": [
        "x = {'layers':1, 'units':100, 'activation_function':tf.nn.relu,'train_steps':2000, 'learning_rate':0.1}\n",
        "results(x)"
      ],
      "metadata": {
        "colab": {
          "base_uri": "https://localhost:8080/"
        },
        "id": "Il5kSoLDf-h7",
        "outputId": "d226c098-0a59-4d12-ee90-bb72bcbe78fe"
      },
      "execution_count": null,
      "outputs": [
        {
          "output_type": "stream",
          "name": "stdout",
          "text": [
            "Step 101. Batch loss: 1.0678164958953857 Batch accuracy: 0.6953125\n",
            "Step 201. Batch loss: 0.6205866932868958 Batch accuracy: 0.8671875\n",
            "Step 301. Batch loss: 0.412026584148407 Batch accuracy: 0.8984375\n",
            "Step 401. Batch loss: 0.4178839921951294 Batch accuracy: 0.8984375\n",
            "Starting new epoch...\n",
            "Step 501. Batch loss: 0.36517366766929626 Batch accuracy: 0.8984375\n",
            "Step 601. Batch loss: 0.36928361654281616 Batch accuracy: 0.90625\n",
            "Step 701. Batch loss: 0.3823903203010559 Batch accuracy: 0.8828125\n",
            "Step 801. Batch loss: 0.26622289419174194 Batch accuracy: 0.9375\n",
            "Step 901. Batch loss: 0.1436774730682373 Batch accuracy: 0.9609375\n",
            "Starting new epoch...\n",
            "Step 1001. Batch loss: 0.2418626844882965 Batch accuracy: 0.9375\n",
            "Step 1101. Batch loss: 0.24137619137763977 Batch accuracy: 0.9453125\n",
            "Step 1201. Batch loss: 0.2740941047668457 Batch accuracy: 0.9140625\n",
            "Step 1301. Batch loss: 0.27896934747695923 Batch accuracy: 0.9375\n",
            "Step 1401. Batch loss: 0.2778792977333069 Batch accuracy: 0.9140625\n",
            "Starting new epoch...\n",
            "Step 1501. Batch loss: 0.206119567155838 Batch accuracy: 0.9453125\n",
            "Step 1601. Batch loss: 0.21681737899780273 Batch accuracy: 0.9140625\n",
            "Step 1701. Batch loss: 0.2021847367286682 Batch accuracy: 0.9453125\n",
            "Step 1801. Batch loss: 0.28650379180908203 Batch accuracy: 0.9140625\n",
            "Starting new epoch...\n",
            "Step 1901. Batch loss: 0.13145704567432404 Batch accuracy: 0.96875\n",
            "Step 2001. Batch loss: 0.30287063121795654 Batch accuracy: 0.8984375\n"
          ]
        }
      ]
    },
    {
      "cell_type": "markdown",
      "source": [
        "# Bonus "
      ],
      "metadata": {
        "id": "ea0_owVvKXoz"
      }
    },
    {
      "cell_type": "markdown",
      "source": [
        "## Load Fashion Dataset"
      ],
      "metadata": {
        "id": "n9v0Jll0iBnQ"
      }
    },
    {
      "cell_type": "code",
      "source": [
        "fashion_mnist = tf.keras.datasets.fashion_mnist\n",
        "(train_images, train_labels), (test_images, test_labels) = fashion_mnist.load_data()\n",
        "\n",
        "# we can look at any of the images and the corresponding labels\n",
        "# say, image no. 155\n",
        "plt.imshow(train_images[155], cmap=\"Greys_r\")\n",
        "plt.show()\n",
        "print(train_labels[155])\n",
        "\n",
        "# images are \"flattened\" into vectors\n",
        "data = MNISTDataset(train_images.reshape([-1, 28*28]), train_labels, \n",
        "                    test_images.reshape([-1, 28*28]), test_labels,\n",
        "                    batch_size=128)"
      ],
      "metadata": {
        "colab": {
          "base_uri": "https://localhost:8080/",
          "height": 282
        },
        "id": "ljhqGXAHISdn",
        "outputId": "013c409e-6e02-48fd-ef1d-0b60d119b192"
      },
      "execution_count": null,
      "outputs": [
        {
          "output_type": "display_data",
          "data": {
            "text/plain": [
              "<Figure size 432x288 with 1 Axes>"
            ],
            "image/png": "[encoded data removed]"
          },
          "metadata": {
            "needs_background": "light"
          }
        },
        {
          "output_type": "stream",
          "name": "stdout",
          "text": [
            "5\n"
          ]
        }
      ]
    },
    {
      "cell_type": "markdown",
      "source": [
        "## Convert to NP Arrays"
      ],
      "metadata": {
        "id": "S9wQHqSyiG2v"
      }
    },
    {
      "cell_type": "code",
      "source": [
        "train_images = train_images.astype(np.float32) / 255\n",
        "test_images = test_images.astype(np.float32) / 255"
      ],
      "metadata": {
        "id": "CL3rb9V1iAFn"
      },
      "execution_count": null,
      "outputs": []
    },
    {
      "cell_type": "markdown",
      "source": [
        "## Test Model"
      ],
      "metadata": {
        "id": "mYn84vEpiKE3"
      }
    },
    {
      "cell_type": "code",
      "source": [
        "x = {'layers':1, 'units':100, 'activation_function':tf.nn.tanh,'train_steps':2000, 'learning_rate':0.15}\n",
        "results(x)"
      ],
      "metadata": {
        "colab": {
          "base_uri": "https://localhost:8080/"
        },
        "id": "mKMsXmR9QZcg",
        "outputId": "13fd718d-b7ff-4ecc-bdf6-e5ad3d4664a8"
      },
      "execution_count": null,
      "outputs": [
        {
          "output_type": "stream",
          "name": "stdout",
          "text": [
            "Step 101. Batch loss: 0.7347116470336914 Batch accuracy: 0.6796875\n",
            "Step 201. Batch loss: 0.6373168230056763 Batch accuracy: 0.7578125\n",
            "Step 301. Batch loss: 0.5396754741668701 Batch accuracy: 0.8203125\n",
            "Starting new epoch...\n",
            "Step 401. Batch loss: 0.4082949161529541 Batch accuracy: 0.859375\n",
            "Step 501. Batch loss: 0.4792635440826416 Batch accuracy: 0.8359375\n",
            "Step 601. Batch loss: 0.5284992456436157 Batch accuracy: 0.78125\n",
            "Step 701. Batch loss: 0.5093953609466553 Batch accuracy: 0.8125\n",
            "Step 801. Batch loss: 0.411000519990921 Batch accuracy: 0.890625\n",
            "Starting new epoch...\n",
            "Step 901. Batch loss: 0.34168434143066406 Batch accuracy: 0.8828125\n",
            "Step 1001. Batch loss: 0.5156997442245483 Batch accuracy: 0.8203125\n",
            "Step 1101. Batch loss: 0.45732298493385315 Batch accuracy: 0.8359375\n",
            "Step 1201. Batch loss: 0.36308881640434265 Batch accuracy: 0.8671875\n",
            "Step 1301. Batch loss: 0.436737060546875 Batch accuracy: 0.859375\n",
            "Starting new epoch...\n",
            "Step 1401. Batch loss: 0.34674710035324097 Batch accuracy: 0.8671875\n",
            "Step 1501. Batch loss: 0.34798961877822876 Batch accuracy: 0.890625\n",
            "Step 1601. Batch loss: 0.31129878759384155 Batch accuracy: 0.9140625\n",
            "Step 1701. Batch loss: 0.36694246530532837 Batch accuracy: 0.875\n",
            "Starting new epoch...\n",
            "Step 1801. Batch loss: 0.38839006423950195 Batch accuracy: 0.8515625\n",
            "Step 1901. Batch loss: 0.44453126192092896 Batch accuracy: 0.8359375\n",
            "Step 2001. Batch loss: 0.42093217372894287 Batch accuracy: 0.84375\n"
          ]
        }
      ]
    },
    {
      "cell_type": "markdown",
      "source": [
        "## Accuracy using different activation functions\n",
        "\n",
        "\n",
        "\n",
        "1.   Sigmoid = ~82%\n",
        "2.   Tanh = ~84%\n",
        "3.   ReLu = ~85%\n",
        "\n"
      ],
      "metadata": {
        "id": "t4KkdKXAv4K2"
      }
    },
    {
      "cell_type": "markdown",
      "source": [
        "## Accuracy using different number of hidden layers\n",
        "\n",
        "1.   1 hidden layer = ~82%\n",
        "2.   2 hidden layers = ~30%\n",
        "3.   3 hidden layers = ~5%\n",
        "\n"
      ],
      "metadata": {
        "id": "h4gXhFkQwnF4"
      }
    },
    {
      "cell_type": "markdown",
      "source": [
        "## Accuracy using different number of units in hidden layer\n",
        "\n",
        "1.   10 hidden units = ~71%\n",
        "2.   50 hidden units = ~79%\n",
        "3.   100 hidden units = ~82%\n",
        "\n"
      ],
      "metadata": {
        "id": "UwT-jJEIxQcl"
      }
    }
  ]
}
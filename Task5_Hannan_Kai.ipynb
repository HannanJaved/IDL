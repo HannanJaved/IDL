{
  "nbformat": 4,
  "nbformat_minor": 0,
  "metadata": {
    "colab": {
      "provenance": [],
      "collapsed_sections": [
        "Pb9MukdWq--m",
        "DBPqvmNlrN4r",
        "cMB48AVM3dJ2",
        "M_TmE-U_JAic",
        "CXMRaFmArqD4",
        "FdyGjfJTXSRz",
        "1Euy0bLQw2aY",
        "zOcIp-ebUvk-",
        "YGJwe0hSVX7k",
        "9wcXiaqdfC_j",
        "7_JHU03NwuRQ",
        "ZUvIB94xr_mZ",
        "wHIxpGrYrs2n",
        "_RkN37FVs6dJ",
        "2rh-gNOvv3ox",
        "rc8kXC-mBD0M",
        "vt2DpvDgB29m",
        "3xMnV_cRB5Fi",
        "JiADxBRMB_aF",
        "OaYUfrg5dTZW",
        "f3JUPfqNwB8v",
        "QMnWbwMQdXYf",
        "V4b45tTUdjbu",
        "YFGmrE1ed1BF",
        "TxjZ3b4Dd6nH",
        "iMpE3WYaeFue",
        "USO7t8P6eLeV",
        "mMLS1IcHeRNF"
      ]
    },
    "kernelspec": {
      "name": "python3",
      "display_name": "Python 3"
    },
    "language_info": {
      "name": "python"
    }
  },
  "cells": [
    {
      "cell_type": "markdown",
      "source": [
        "# Assignment 5: Text Classification with RNNs (Part 1) - Kai Ponel & Hannan Mahadik"
      ],
      "metadata": {
        "id": "0iBp65QhqvYN"
      }
    },
    {
      "cell_type": "markdown",
      "source": [
        "# Imports"
      ],
      "metadata": {
        "id": "Pb9MukdWq--m"
      }
    },
    {
      "cell_type": "code",
      "execution_count": null,
      "metadata": {
        "id": "pjZJykLSqmBp"
      },
      "outputs": [],
      "source": [
        "import numpy as np\n",
        "import tensorflow as tf \n",
        "from tensorflow import keras\n",
        "from matplotlib import pyplot as plt\n",
        "\n",
        "from datetime import datetime\n",
        "import time"
      ]
    },
    {
      "cell_type": "markdown",
      "source": [
        "# Dataset"
      ],
      "metadata": {
        "id": "DBPqvmNlrN4r"
      }
    },
    {
      "cell_type": "code",
      "source": [
        "# remove infrequent words. you can play with this parameter as it will likely impact model quality\n",
        "num_words = 2000\n",
        "seq_len=200\n",
        "\n",
        "(train_sequences, train_labels), (test_sequences, test_labels) = tf.keras.datasets.imdb.load_data(num_words=num_words)"
      ],
      "metadata": {
        "id": "N86vfUF-rQ1r"
      },
      "execution_count": null,
      "outputs": []
    },
    {
      "cell_type": "code",
      "source": [
        "# padding all sequences to a predefined seq_len\n",
        "train_sequences = tf.keras.preprocessing.sequence.pad_sequences(train_sequences, maxlen=seq_len, truncating='pre')\n",
        "test_sequences = tf.keras.preprocessing.sequence.pad_sequences(test_sequences, maxlen=seq_len, truncating='pre')"
      ],
      "metadata": {
        "id": "eZdFm5TWDTlu"
      },
      "execution_count": null,
      "outputs": []
    },
    {
      "cell_type": "markdown",
      "source": [
        "## For low-level RNN"
      ],
      "metadata": {
        "id": "cMB48AVM3dJ2"
      }
    },
    {
      "cell_type": "code",
      "source": [
        "train_data = tf.data.Dataset.from_tensor_slices((train_sequences, train_labels))\n",
        "test_data = tf.data.Dataset.from_tensor_slices((test_sequences, test_labels))"
      ],
      "metadata": {
        "id": "ZCdB3uk13cjC"
      },
      "execution_count": null,
      "outputs": []
    },
    {
      "cell_type": "code",
      "source": [
        "train_sequences.shape"
      ],
      "metadata": {
        "colab": {
          "base_uri": "https://localhost:8080/"
        },
        "id": "q1GeHZaiC6x-",
        "outputId": "84c5f50a-45c5-4dba-8ba9-c9c6a38b0581"
      },
      "execution_count": null,
      "outputs": [
        {
          "output_type": "execute_result",
          "data": {
            "text/plain": [
              "(25000, 200)"
            ]
          },
          "metadata": {},
          "execution_count": 5
        }
      ]
    },
    {
      "cell_type": "markdown",
      "source": [
        "# Explanatory Stuff from Exercise Notebook"
      ],
      "metadata": {
        "id": "M_TmE-U_JAic"
      }
    },
    {
      "cell_type": "code",
      "source": [
        "# look at some sequences. words have been replaced with arbitrary index mappings\n",
        "# 1 is a special \"beginning of sequence\" marker\n",
        "# infrequent words have been replaced by the index 2\n",
        "# actual words start with index 4, 3 is never used (???)\n",
        "train_sequences[:3]"
      ],
      "metadata": {
        "id": "tyBgjmnWLUls",
        "colab": {
          "base_uri": "https://localhost:8080/"
        },
        "outputId": "07c42478-1a5e-4faa-a67b-1ca11b9622d0"
      },
      "execution_count": null,
      "outputs": [
        {
          "output_type": "execute_result",
          "data": {
            "text/plain": [
              "array([list([1, 14, 22, 16, 43, 530, 973, 1622, 1385, 65, 458, 4468, 66, 3941, 4, 173, 36, 256, 5, 25, 100, 43, 838, 112, 50, 670, 2, 9, 35, 480, 284, 5, 150, 4, 172, 112, 167, 2, 336, 385, 39, 4, 172, 4536, 1111, 17, 546, 38, 13, 447, 4, 192, 50, 16, 6, 147, 2025, 19, 14, 22, 4, 1920, 4613, 469, 4, 22, 71, 87, 12, 16, 43, 530, 38, 76, 15, 13, 1247, 4, 22, 17, 515, 17, 12, 16, 626, 18, 19193, 5, 62, 386, 12, 8, 316, 8, 106, 5, 4, 2223, 5244, 16, 480, 66, 3785, 33, 4, 130, 12, 16, 38, 619, 5, 25, 124, 51, 36, 135, 48, 25, 1415, 33, 6, 22, 12, 215, 28, 77, 52, 5, 14, 407, 16, 82, 10311, 8, 4, 107, 117, 5952, 15, 256, 4, 2, 7, 3766, 5, 723, 36, 71, 43, 530, 476, 26, 400, 317, 46, 7, 4, 12118, 1029, 13, 104, 88, 4, 381, 15, 297, 98, 32, 2071, 56, 26, 141, 6, 194, 7486, 18, 4, 226, 22, 21, 134, 476, 26, 480, 5, 144, 30, 5535, 18, 51, 36, 28, 224, 92, 25, 104, 4, 226, 65, 16, 38, 1334, 88, 12, 16, 283, 5, 16, 4472, 113, 103, 32, 15, 16, 5345, 19, 178, 32]),\n",
              "       list([1, 194, 1153, 194, 8255, 78, 228, 5, 6, 1463, 4369, 5012, 134, 26, 4, 715, 8, 118, 1634, 14, 394, 20, 13, 119, 954, 189, 102, 5, 207, 110, 3103, 21, 14, 69, 188, 8, 30, 23, 7, 4, 249, 126, 93, 4, 114, 9, 2300, 1523, 5, 647, 4, 116, 9, 35, 8163, 4, 229, 9, 340, 1322, 4, 118, 9, 4, 130, 4901, 19, 4, 1002, 5, 89, 29, 952, 46, 37, 4, 455, 9, 45, 43, 38, 1543, 1905, 398, 4, 1649, 26, 6853, 5, 163, 11, 3215, 10156, 4, 1153, 9, 194, 775, 7, 8255, 11596, 349, 2637, 148, 605, 15358, 8003, 15, 123, 125, 68, 2, 6853, 15, 349, 165, 4362, 98, 5, 4, 228, 9, 43, 2, 1157, 15, 299, 120, 5, 120, 174, 11, 220, 175, 136, 50, 9, 4373, 228, 8255, 5, 2, 656, 245, 2350, 5, 4, 9837, 131, 152, 491, 18, 2, 32, 7464, 1212, 14, 9, 6, 371, 78, 22, 625, 64, 1382, 9, 8, 168, 145, 23, 4, 1690, 15, 16, 4, 1355, 5, 28, 6, 52, 154, 462, 33, 89, 78, 285, 16, 145, 95]),\n",
              "       list([1, 14, 47, 8, 30, 31, 7, 4, 249, 108, 7, 4, 5974, 54, 61, 369, 13, 71, 149, 14, 22, 112, 4, 2401, 311, 12, 16, 3711, 33, 75, 43, 1829, 296, 4, 86, 320, 35, 534, 19, 263, 4821, 1301, 4, 1873, 33, 89, 78, 12, 66, 16, 4, 360, 7, 4, 58, 316, 334, 11, 4, 1716, 43, 645, 662, 8, 257, 85, 1200, 42, 1228, 2578, 83, 68, 3912, 15, 36, 165, 1539, 278, 36, 69, 2, 780, 8, 106, 14, 6905, 1338, 18, 6, 22, 12, 215, 28, 610, 40, 6, 87, 326, 23, 2300, 21, 23, 22, 12, 272, 40, 57, 31, 11, 4, 22, 47, 6, 2307, 51, 9, 170, 23, 595, 116, 595, 1352, 13, 191, 79, 638, 89, 2, 14, 9, 8, 106, 607, 624, 35, 534, 6, 227, 7, 129, 113])],\n",
              "      dtype=object)"
            ]
          },
          "metadata": {},
          "execution_count": 4
        }
      ]
    },
    {
      "cell_type": "code",
      "source": [
        "# labels are simply binary: sentiment can be positive or negative\n",
        "train_labels[:3]"
      ],
      "metadata": {
        "id": "p840EyX5La0A",
        "colab": {
          "base_uri": "https://localhost:8080/"
        },
        "outputId": "869730db-147a-4643-dfa3-1e5f90723a21"
      },
      "execution_count": null,
      "outputs": [
        {
          "output_type": "execute_result",
          "data": {
            "text/plain": [
              "array([1, 0, 0])"
            ]
          },
          "metadata": {},
          "execution_count": 5
        }
      ]
    },
    {
      "cell_type": "code",
      "source": [
        "# to restore words, load the word-to-index mapping\n",
        "word_to_index = tf.keras.datasets.imdb.get_word_index()"
      ],
      "metadata": {
        "id": "30QDGfn8LekX",
        "colab": {
          "base_uri": "https://localhost:8080/"
        },
        "outputId": "0ba60ad4-b958-4900-a896-2366dab13bfb"
      },
      "execution_count": null,
      "outputs": [
        {
          "output_type": "stream",
          "name": "stdout",
          "text": [
            "Downloading data from https://storage.googleapis.com/tensorflow/tf-keras-datasets/imdb_word_index.json\n",
            "1641221/1641221 [==============================] - 0s 0us/step\n"
          ]
        }
      ]
    },
    {
      "cell_type": "code",
      "source": [
        "# invert to get index-to-word mapping\n",
        "index_to_word = dict((index, word) for (word, index) in word_to_index.items())"
      ],
      "metadata": {
        "id": "-WADhJJdLgI2"
      },
      "execution_count": null,
      "outputs": []
    },
    {
      "cell_type": "code",
      "source": [
        "# we can convert a sequence to text by\n",
        "# - replacing each index by the respective word\n",
        "# - joining words together via spaces\n",
        "# note that we remove the beginning of sequence character and we have to subtract 3 from all indices\n",
        "# this is because, as mentioned above, the smallest indices are reserved for special characters\n",
        "# but for some reason this is not reflected in the mapping...\n",
        "\" \".join([index_to_word.get(index - 3, \"UNKNOWN\") for index in train_sequences[0][1:]])"
      ],
      "metadata": {
        "colab": {
          "base_uri": "https://localhost:8080/",
          "height": 122
        },
        "id": "91nigI1R-L7y",
        "outputId": "ea5f91c4-3b43-4bec-f4c2-4f89769dafb2"
      },
      "execution_count": null,
      "outputs": [
        {
          "output_type": "execute_result",
          "data": {
            "text/plain": [
              "\"this film was just brilliant casting location scenery story direction everyone's really suited the part they played and you could just imagine being there robert UNKNOWN is an amazing actor and now the same being director UNKNOWN father came from the same scottish island as myself so i loved the fact there was a real connection with this film the witty remarks throughout the film were great it was just brilliant so much that i bought the film as soon as it was released for retail and would recommend it to everyone to watch and the fly fishing was amazing really cried at the end it was so sad and you know what they say if you cry at a film it must have been good and this definitely was also congratulations to the two little boy's that played the UNKNOWN of norman and paul they were just brilliant children are often left out of the praising list i think because the stars that play them all grown up are such a big profile for the whole film but these children are amazing and should be praised for what they have done don't you think the whole story was so lovely because it was true and was someone's life after all that was shared with us all\""
            ],
            "application/vnd.google.colaboratory.intrinsic+json": {
              "type": "string"
            }
          },
          "metadata": {},
          "execution_count": 8
        }
      ]
    },
    {
      "cell_type": "code",
      "source": [
        "# solution is padding all sequences to the maximum length.\n",
        "# first find the maximum length\n",
        "sequence_lengths = [len(sequence) for sequence in train_sequences]\n",
        "max_len = max(sequence_lengths)\n",
        "max_len"
      ],
      "metadata": {
        "colab": {
          "base_uri": "https://localhost:8080/"
        },
        "id": "f4DK6iBY-Qbz",
        "outputId": "1e124ae0-d18f-415e-ce5e-e12a96e63089"
      },
      "execution_count": null,
      "outputs": [
        {
          "output_type": "execute_result",
          "data": {
            "text/plain": [
              "2494"
            ]
          },
          "metadata": {},
          "execution_count": 9
        }
      ]
    },
    {
      "cell_type": "code",
      "source": [
        "# overview over sequence lengths in the data\n",
        "# could also look at mean, median, standard deviation...\n",
        "plt.hist(sequence_lengths, bins=80)\n",
        "plt.show()"
      ],
      "metadata": {
        "colab": {
          "base_uri": "https://localhost:8080/",
          "height": 265
        },
        "id": "VEZsOHAf-Sf9",
        "outputId": "a8654d8c-e4b1-4947-e79a-a83a4e60e02d"
      },
      "execution_count": null,
      "outputs": [
        {
          "output_type": "display_data",
          "data": {
            "text/plain": [
              "<Figure size 432x288 with 1 Axes>"
            ],
            "image/png": "[encoded data removed]"
          },
          "metadata": {
            "needs_background": "light"
          }
        }
      ]
    },
    {
      "cell_type": "code",
      "source": [
        "# luckily there is a convenient function for padding\n",
        "train_sequences_padded = tf.keras.preprocessing.sequence.pad_sequences(train_sequences, maxlen=max_len)"
      ],
      "metadata": {
        "id": "YdfNawKS-UjD"
      },
      "execution_count": null,
      "outputs": []
    },
    {
      "cell_type": "code",
      "source": [
        "# now we can create a dataset!\n",
        "train_data = tf.data.Dataset.from_tensor_slices((train_sequences_padded, train_labels))"
      ],
      "metadata": {
        "id": "Zm92kCTj-YW_"
      },
      "execution_count": null,
      "outputs": []
    },
    {
      "cell_type": "code",
      "source": [
        "# all sequences are... very long\n",
        "train_sequences_padded.shape"
      ],
      "metadata": {
        "colab": {
          "base_uri": "https://localhost:8080/"
        },
        "id": "WWMfwd57-aBS",
        "outputId": "7c751c64-e013-47ec-f8f1-6620ac9b6ff0"
      },
      "execution_count": null,
      "outputs": [
        {
          "output_type": "execute_result",
          "data": {
            "text/plain": [
              "(25000, 2494)"
            ]
          },
          "metadata": {},
          "execution_count": 13
        }
      ]
    },
    {
      "cell_type": "code",
      "source": [
        "# it would be better to do something like this\n",
        "# all sequences above maxlen will be truncated to that length\n",
        "# note: pad_sequences has \"pre\" and \"post\" options for both padding and truncation. one may be better than the other!\n",
        "train_sequences_padded = tf.keras.preprocessing.sequence.pad_sequences(train_sequences, maxlen=200)\n",
        "train_data = tf.data.Dataset.from_tensor_slices((train_sequences_padded, train_labels))\n",
        "\n",
        "train_sequences_padded.shape"
      ],
      "metadata": {
        "colab": {
          "base_uri": "https://localhost:8080/"
        },
        "id": "4Nkos4LT-b-c",
        "outputId": "657fbec6-4b29-4f55-eb13-be3627a4fb9e"
      },
      "execution_count": null,
      "outputs": [
        {
          "output_type": "execute_result",
          "data": {
            "text/plain": [
              "(25000, 200)"
            ]
          },
          "metadata": {},
          "execution_count": 14
        }
      ]
    },
    {
      "cell_type": "code",
      "source": [
        "# for fun, you can look at the word-index mappings.\n",
        "# in this case, the mapping was done according to word frequency.\n",
        "# you can pass reverse=True to sorted() to look at the least common words.\n",
        "sorted(index_to_word.items())[:100]"
      ],
      "metadata": {
        "colab": {
          "base_uri": "https://localhost:8080/"
        },
        "id": "fkz6Niyh-ev9",
        "outputId": "6968b3d2-d608-414f-8f72-f9147b6f841e"
      },
      "execution_count": null,
      "outputs": [
        {
          "output_type": "execute_result",
          "data": {
            "text/plain": [
              "[(1, 'the'),\n",
              " (2, 'and'),\n",
              " (3, 'a'),\n",
              " (4, 'of'),\n",
              " (5, 'to'),\n",
              " (6, 'is'),\n",
              " (7, 'br'),\n",
              " (8, 'in'),\n",
              " (9, 'it'),\n",
              " (10, 'i'),\n",
              " (11, 'this'),\n",
              " (12, 'that'),\n",
              " (13, 'was'),\n",
              " (14, 'as'),\n",
              " (15, 'for'),\n",
              " (16, 'with'),\n",
              " (17, 'movie'),\n",
              " (18, 'but'),\n",
              " (19, 'film'),\n",
              " (20, 'on'),\n",
              " (21, 'not'),\n",
              " (22, 'you'),\n",
              " (23, 'are'),\n",
              " (24, 'his'),\n",
              " (25, 'have'),\n",
              " (26, 'he'),\n",
              " (27, 'be'),\n",
              " (28, 'one'),\n",
              " (29, 'all'),\n",
              " (30, 'at'),\n",
              " (31, 'by'),\n",
              " (32, 'an'),\n",
              " (33, 'they'),\n",
              " (34, 'who'),\n",
              " (35, 'so'),\n",
              " (36, 'from'),\n",
              " (37, 'like'),\n",
              " (38, 'her'),\n",
              " (39, 'or'),\n",
              " (40, 'just'),\n",
              " (41, 'about'),\n",
              " (42, \"it's\"),\n",
              " (43, 'out'),\n",
              " (44, 'has'),\n",
              " (45, 'if'),\n",
              " (46, 'some'),\n",
              " (47, 'there'),\n",
              " (48, 'what'),\n",
              " (49, 'good'),\n",
              " (50, 'more'),\n",
              " (51, 'when'),\n",
              " (52, 'very'),\n",
              " (53, 'up'),\n",
              " (54, 'no'),\n",
              " (55, 'time'),\n",
              " (56, 'she'),\n",
              " (57, 'even'),\n",
              " (58, 'my'),\n",
              " (59, 'would'),\n",
              " (60, 'which'),\n",
              " (61, 'only'),\n",
              " (62, 'story'),\n",
              " (63, 'really'),\n",
              " (64, 'see'),\n",
              " (65, 'their'),\n",
              " (66, 'had'),\n",
              " (67, 'can'),\n",
              " (68, 'were'),\n",
              " (69, 'me'),\n",
              " (70, 'well'),\n",
              " (71, 'than'),\n",
              " (72, 'we'),\n",
              " (73, 'much'),\n",
              " (74, 'been'),\n",
              " (75, 'bad'),\n",
              " (76, 'get'),\n",
              " (77, 'will'),\n",
              " (78, 'do'),\n",
              " (79, 'also'),\n",
              " (80, 'into'),\n",
              " (81, 'people'),\n",
              " (82, 'other'),\n",
              " (83, 'first'),\n",
              " (84, 'great'),\n",
              " (85, 'because'),\n",
              " (86, 'how'),\n",
              " (87, 'him'),\n",
              " (88, 'most'),\n",
              " (89, \"don't\"),\n",
              " (90, 'made'),\n",
              " (91, 'its'),\n",
              " (92, 'then'),\n",
              " (93, 'way'),\n",
              " (94, 'make'),\n",
              " (95, 'them'),\n",
              " (96, 'too'),\n",
              " (97, 'could'),\n",
              " (98, 'any'),\n",
              " (99, 'movies'),\n",
              " (100, 'after')]"
            ]
          },
          "metadata": {},
          "execution_count": 15
        }
      ]
    },
    {
      "cell_type": "markdown",
      "source": [
        "# RNN"
      ],
      "metadata": {
        "id": "CXMRaFmArqD4"
      }
    },
    {
      "cell_type": "markdown",
      "source": [
        "## Many-to-One"
      ],
      "metadata": {
        "id": "FdyGjfJTXSRz"
      }
    },
    {
      "cell_type": "markdown",
      "source": [
        "![Many2oneRNN.png](data:image/png;base64,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)"
      ],
      "metadata": {
        "id": "jCTHaKkGWtaM"
      }
    },
    {
      "cell_type": "markdown",
      "metadata": {
        "id": "1Euy0bLQw2aY"
      },
      "source": [
        "## Low-level Model"
      ]
    },
    {
      "cell_type": "markdown",
      "source": [
        "### Parameter initialization"
      ],
      "metadata": {
        "id": "zOcIp-ebUvk-"
      }
    },
    {
      "cell_type": "code",
      "execution_count": null,
      "metadata": {
        "id": "Xizy4L5Jy_mX"
      },
      "outputs": [],
      "source": [
        "hidden_units = 100\n",
        "optimizer = tf.optimizers.Adam()\n",
        "loss_fn = tf.losses.BinaryCrossentropy(from_logits=True)\n",
        "initializer = keras.initializers.HeNormal()\n",
        "acc = tf.keras.metrics.BinaryAccuracy(threshold=0.5)\n",
        "\n",
        "# Intitializing the weights\n",
        "weights = {\n",
        "  'W' : tf.Variable(initializer([hidden_units,hidden_units]),dtype=tf.dtypes.float32),\n",
        "  'U' : tf.Variable(initializer([num_words,hidden_units]),dtype=tf.dtypes.float32), \n",
        "  'V' : tf.Variable(initializer([hidden_units, 1]),dtype=tf.dtypes.float32)\n",
        "}\n",
        "biases = {\n",
        "  'b_h' : tf.Variable(tf.zeros([hidden_units]),dtype=tf.dtypes.float32)\n",
        "}\n",
        "\n",
        "all_trainable_variables = [weights['W'],weights['U'], weights[\"V\"],biases['b_h']]"
      ]
    },
    {
      "cell_type": "markdown",
      "source": [
        "### RNN"
      ],
      "metadata": {
        "id": "YGJwe0hSVX7k"
      }
    },
    {
      "cell_type": "code",
      "execution_count": null,
      "metadata": {
        "colab": {
          "base_uri": "https://localhost:8080/"
        },
        "id": "jTNgWil2EpYE",
        "outputId": "fabadfa2-4a16-49f0-bc5f-03afda3a24dd"
      },
      "outputs": [
        {
          "output_type": "stream",
          "name": "stdout",
          "text": [
            "Accuracy: 0.40789473056793213\n",
            "Accuracy: 0.5600000023841858\n",
            "Accuracy: 0.41999998688697815\n",
            "Accuracy: 0.5\n",
            "Accuracy: 0.5649999976158142\n",
            "Accuracy: 0.550000011920929\n",
            "Accuracy: 0.5450000166893005\n",
            "Accuracy: 0.5550000071525574\n",
            "Accuracy: 0.4050000011920929\n",
            "Accuracy: 0.5299999713897705\n",
            "Accuracy: 0.49000000953674316\n"
          ]
        }
      ],
      "source": [
        "# training loop -- same thing as before!!\n",
        "# our data is now slightly different (each batch of sequences has a time axis, which is kinda new)\n",
        "# but all the related changes are hidden away at lower levels\n",
        "def train_loop():\n",
        "  for step, (sequences, labels) in enumerate(train_data):\n",
        "      if step > 2000:\n",
        "          break\n",
        "\n",
        "      with tf.GradientTape() as tape:\n",
        "          logits = rnn_loop(sequences)[0]\n",
        "          loss = loss_fn(labels, logits)\n",
        "      \n",
        "      gradients = tape.gradient(loss, all_trainable_variables)\n",
        "\n",
        "      optimizer.apply_gradients(zip(gradients,all_trainable_variables))\n",
        "      acc(labels, logits)\n",
        "\n",
        "      if not step % 200:\n",
        "          print(\"Accuracy: {}\".format(acc.result().numpy()))\n",
        "          acc.reset_state()\n",
        "\n",
        "# here's where things start to change\n",
        "# we loop over the input time axis, and at each time step compute the new\n",
        "# hidden state based on the previous one as well as the current input\n",
        "# the state computation is hidden away in the rnn_step function and could be\n",
        "# arbitrarily complex.\n",
        "# in the general RNN, an output is computed at each time step, and the whole\n",
        "# sequence is returned. but in this case, since we only have one label for the\n",
        "# entire sequence, we only use the final state to compute one output and return it.\n",
        "# before the loop, the state need to be initialized somehow.\n",
        "def rnn_loop(sequences):\n",
        "\n",
        "    old_state = tf.transpose(tf.zeros([hidden_units, 1]))\n",
        "\n",
        "    for step in range(seq_len):\n",
        "        x_t = sequences[step: step+1] # x_t = sequences[:, step]\n",
        "        x_t = tf.one_hot(x_t, depth=num_words, axis=-1)\n",
        "        new_state = rnn_step(old_state, x_t)\n",
        "\n",
        "        old_state = new_state\n",
        "\n",
        "    o_t = output_layer(old_state)\n",
        "\n",
        "    return o_t\n",
        "\n",
        "\n",
        "def rnn_step(state, x_t):\n",
        "\n",
        "    new_state = tf.nn.tanh(tf.matmul(x_t, weights['U']) + tf.matmul(state, weights['W']) + biases['b_h'])\n",
        "    return new_state\n",
        "\n",
        "\n",
        "def output_layer(state):\n",
        "\n",
        "    return (tf.nn.sigmoid(tf.matmul(state, weights['V'])))\n",
        "\n",
        "\n",
        "\n",
        "train_loop()"
      ]
    },
    {
      "cell_type": "markdown",
      "source": [
        "### Test Accuracy"
      ],
      "metadata": {
        "id": "9wcXiaqdfC_j"
      }
    },
    {
      "cell_type": "code",
      "execution_count": null,
      "metadata": {
        "id": "ECHgEKD328Vr",
        "colab": {
          "base_uri": "https://localhost:8080/"
        },
        "outputId": "7f87cdaf-3d39-4925-9266-0c50b965e7be"
      },
      "outputs": [
        {
          "output_type": "stream",
          "name": "stdout",
          "text": [
            "Test acc: 0.5018399953842163\n"
          ]
        }
      ],
      "source": [
        "test_acc_metric = tf.keras.metrics.BinaryAccuracy(threshold=0.5)\n",
        "\n",
        "for _, (test_sequences, test_labels) in enumerate(test_data):\n",
        "    test_acc_metric(test_labels, rnn_loop(test_sequences))\n",
        "\n",
        "print(\"Test acc: {}\".format(test_acc_metric.result()))"
      ]
    },
    {
      "cell_type": "markdown",
      "source": [
        "## Model with custom Keras layer"
      ],
      "metadata": {
        "id": "7_JHU03NwuRQ"
      }
    },
    {
      "cell_type": "markdown",
      "source": [
        "### Rnn_layer"
      ],
      "metadata": {
        "id": "ZUvIB94xr_mZ"
      }
    },
    {
      "cell_type": "code",
      "source": [
        "class Rnn_layer(keras.layers.Layer):\n",
        "\n",
        "  def __init__(self, initializer, regularizer, hidden_units, **kwargs):\n",
        "    super(Rnn_layer, self).__init__(**kwargs)\n",
        "    self.initializer = initializer\n",
        "    self.regularizer = regularizer\n",
        "    self.hidden_units = hidden_units\n",
        "\n",
        "\n",
        "  def get_config(self):\n",
        "      config = super().get_config().copy()\n",
        "      config.update({\n",
        "          'initializer': self.initializer,\n",
        "          'regularizer': self.regularizer,\n",
        "          'hidden_units': self.hidden_units\n",
        "      })\n",
        "      return config\n",
        "\n",
        "\n",
        "  def build(self, input_shape):\n",
        "\n",
        "    h_weight = (self.hidden_units, self.hidden_units)\n",
        "    self.W = tf.Variable(self.initializer(shape=h_weight))\n",
        "\n",
        "    i_weight = (num_words, self.hidden_units)\n",
        "    self.U = tf.Variable(self.initializer(shape=i_weight))\n",
        "\n",
        "    bias = (1, self.hidden_units)\n",
        "    self.b = tf.Variable(tf.zeros(bias))\n",
        "\n",
        "    self.activation = keras.activations.relu\n",
        "\n",
        "\n",
        "  @tf.function\n",
        "  def call(self, sequences):\n",
        "\n",
        "    h = tf.zeros((1, self.hidden_units))\n",
        "\n",
        "    for step in range(seq_len):\n",
        "      x_t = sequences[:, step]\n",
        "      x_t = tf.one_hot(x_t, depth=num_words)\n",
        "      h = self.activation(h @ self.W + x_t @ self.U + self.b)\n",
        "\n",
        "    return h"
      ],
      "metadata": {
        "id": "wjovl0tqsBjf"
      },
      "execution_count": null,
      "outputs": []
    },
    {
      "cell_type": "markdown",
      "source": [
        "### Model Architecture"
      ],
      "metadata": {
        "id": "wHIxpGrYrs2n"
      }
    },
    {
      "cell_type": "code",
      "source": [
        "optimizer = keras.optimizers.Adam()\n",
        "loss_fn = keras.losses.BinaryCrossentropy(from_logits=True)\n",
        "metrics = [keras.metrics.BinaryAccuracy()]"
      ],
      "metadata": {
        "id": "WKcd8Q_nsq1j"
      },
      "execution_count": null,
      "outputs": []
    },
    {
      "cell_type": "code",
      "source": [
        "hidden_units = 100\n",
        "initializer = keras.initializers.HeNormal()\n",
        "regularizer = keras.regularizers.L2(1e-4)"
      ],
      "metadata": {
        "id": "BZHTqXZrjNyV"
      },
      "execution_count": null,
      "outputs": []
    },
    {
      "cell_type": "code",
      "source": [
        "model = tf.keras.models.Sequential([\n",
        "  Rnn_layer(hidden_units=hidden_units, initializer=initializer, regularizer=regularizer),\n",
        "  tf.keras.layers.Dense(1)\n",
        "])"
      ],
      "metadata": {
        "id": "SCCHiXJeCA9u"
      },
      "execution_count": null,
      "outputs": []
    },
    {
      "cell_type": "code",
      "source": [
        "model.compile(optimizer=optimizer, loss=loss_fn, metrics=metrics)"
      ],
      "metadata": {
        "id": "RVzF-E44s2W3"
      },
      "execution_count": null,
      "outputs": []
    },
    {
      "cell_type": "markdown",
      "source": [
        "### Train"
      ],
      "metadata": {
        "id": "_RkN37FVs6dJ"
      }
    },
    {
      "cell_type": "code",
      "source": [
        "rnn_model1 = model.fit(train_sequences, train_labels, batch_size = 100, epochs = 5, validation_data = (test_sequences, test_labels))"
      ],
      "metadata": {
        "id": "QCSifmDZs8Bb",
        "colab": {
          "base_uri": "https://localhost:8080/"
        },
        "outputId": "69b150c5-a4c1-49c6-970e-69aefdfde596"
      },
      "execution_count": null,
      "outputs": [
        {
          "output_type": "stream",
          "name": "stdout",
          "text": [
            "Epoch 1/5\n",
            "250/250 [==============================] - 307s 1s/step - loss: 6.9022 - binary_accuracy: 0.5020 - val_loss: 0.6817 - val_binary_accuracy: 0.5156\n",
            "Epoch 2/5\n",
            "250/250 [==============================] - 282s 1s/step - loss: 0.6597 - binary_accuracy: 0.5335 - val_loss: 0.6527 - val_binary_accuracy: 0.5471\n",
            "Epoch 3/5\n",
            "250/250 [==============================] - 253s 1s/step - loss: 0.5943 - binary_accuracy: 0.6279 - val_loss: 0.5931 - val_binary_accuracy: 0.6044\n",
            "Epoch 4/5\n",
            "250/250 [==============================] - 281s 1s/step - loss: 0.5087 - binary_accuracy: 0.7288 - val_loss: 0.5152 - val_binary_accuracy: 0.7517\n",
            "Epoch 5/5\n",
            "250/250 [==============================] - 270s 1s/step - loss: 0.4037 - binary_accuracy: 0.8090 - val_loss: 0.4534 - val_binary_accuracy: 0.8099\n"
          ]
        }
      ]
    },
    {
      "cell_type": "markdown",
      "source": [
        "### Evaluation"
      ],
      "metadata": {
        "id": "2rh-gNOvv3ox"
      }
    },
    {
      "cell_type": "code",
      "source": [
        "plt.plot(rnn_model1.history['binary_accuracy'], label='accuracy')\n",
        "plt.plot(rnn_model1.history['val_binary_accuracy'], label = 'val_accuracy')\n",
        "plt.xlabel('Epoch')\n",
        "plt.ylabel('Accuracy')\n",
        "plt.ylim([0.5, 0.85])\n",
        "plt.legend(loc='lower right')\n",
        "\n",
        "test_loss, test_acc = model.evaluate(test_sequences, test_labels, verbose=2)"
      ],
      "metadata": {
        "id": "q1MwA7wsv4_I",
        "colab": {
          "base_uri": "https://localhost:8080/",
          "height": 300
        },
        "outputId": "6e71c33c-5185-45eb-a444-f8e49fbeeb16"
      },
      "execution_count": null,
      "outputs": [
        {
          "output_type": "stream",
          "name": "stdout",
          "text": [
            "782/782 - 70s - loss: 0.4534 - binary_accuracy: 0.8099 - 70s/epoch - 90ms/step\n"
          ]
        },
        {
          "output_type": "display_data",
          "data": {
            "text/plain": [
              "<Figure size 432x288 with 1 Axes>"
            ],
            "image/png": "[encoded data removed]"
          },
          "metadata": {
            "needs_background": "light"
          }
        }
      ]
    },
    {
      "cell_type": "markdown",
      "source": [
        "## Experimental Keras Model"
      ],
      "metadata": {
        "id": "rc8kXC-mBD0M"
      }
    },
    {
      "cell_type": "markdown",
      "source": [
        "### Rnn_layer"
      ],
      "metadata": {
        "id": "vt2DpvDgB29m"
      }
    },
    {
      "cell_type": "code",
      "source": [
        "class Rnn_layer2(keras.layers.Layer):\n",
        "\n",
        "  def __init__(self, initializer, regularizer, hidden_units, **kwargs):\n",
        "    super(Rnn_layer2, self).__init__(**kwargs)\n",
        "    self.initializer = initializer\n",
        "    self.regularizer = regularizer\n",
        "    self.hidden_units = hidden_units\n",
        "\n",
        "\n",
        "  def get_config(self):\n",
        "      config = super().get_config().copy()\n",
        "      config.update({\n",
        "          'initializer': self.initializer,\n",
        "          'regularizer': self.regularizer,\n",
        "          'hidden_units': self.hidden_units\n",
        "      })\n",
        "      return config\n",
        "\n",
        "\n",
        "  def build(self, input_shape):\n",
        "\n",
        "    h_weight = (self.hidden_units, self.hidden_units)\n",
        "    self.W = tf.Variable(self.initializer(shape=h_weight))\n",
        "\n",
        "    i_weight = (num_words, self.hidden_units)\n",
        "    self.U = tf.Variable(self.initializer(shape=i_weight))\n",
        "\n",
        "    bias = (1, self.hidden_units)\n",
        "    self.b = tf.Variable(tf.zeros(bias))\n",
        "\n",
        "    v_weight = (self.hidden_units, 1)\n",
        "    self.V = tf.Variable(self.initializer(shape=v_weight))\n",
        "\n",
        "    self.activation = keras.activations.relu\n",
        "    self.output_activation = keras.activations.sigmoid\n",
        "\n",
        "\n",
        "  @tf.function\n",
        "  def call(self, sequences):\n",
        "\n",
        "    h = tf.zeros((1, self.hidden_units))\n",
        "\n",
        "    for step in range(seq_len):\n",
        "      x_t = sequences[:, step]\n",
        "      x_t = tf.one_hot(x_t, depth=num_words)\n",
        "      h = self.activation(h @ self.W + x_t @ self.U + self.b)\n",
        "\n",
        "    h = self.output_activation(h @ self.V)\n",
        "    \n",
        "    return h"
      ],
      "metadata": {
        "id": "Dbo7O3BWBDYw"
      },
      "execution_count": null,
      "outputs": []
    },
    {
      "cell_type": "markdown",
      "source": [
        "### Model Architecture"
      ],
      "metadata": {
        "id": "3xMnV_cRB5Fi"
      }
    },
    {
      "cell_type": "code",
      "source": [
        "hidden_units = 100\n",
        "initializer = keras.initializers.HeNormal()\n",
        "regularizer = keras.regularizers.L2(1e-4)"
      ],
      "metadata": {
        "id": "fbzob42mBMnY"
      },
      "execution_count": null,
      "outputs": []
    },
    {
      "cell_type": "code",
      "source": [
        "model2 = tf.keras.models.Sequential([\n",
        "  Rnn_layer2(hidden_units=hidden_units, initializer=initializer, regularizer=regularizer)\n",
        "])"
      ],
      "metadata": {
        "id": "k6-X7hwmBMnY"
      },
      "execution_count": null,
      "outputs": []
    },
    {
      "cell_type": "code",
      "source": [
        "model2.compile(optimizer=optimizer, loss=loss_fn, metrics=metrics)"
      ],
      "metadata": {
        "id": "B8VC2lkFBMnY"
      },
      "execution_count": null,
      "outputs": []
    },
    {
      "cell_type": "markdown",
      "source": [
        "### Train"
      ],
      "metadata": {
        "id": "JiADxBRMB_aF"
      }
    },
    {
      "cell_type": "code",
      "source": [
        "rnn_model2 = model2.fit(train_sequences, train_labels, batch_size = 100, epochs = 5, validation_data = (test_sequences, test_labels))"
      ],
      "metadata": {
        "colab": {
          "base_uri": "https://localhost:8080/",
          "height": 450
        },
        "outputId": "c1bf2213-b33e-4f01-feb5-d990aa344e6d",
        "id": "YtOKUKZ2B_aF"
      },
      "execution_count": null,
      "outputs": [
        {
          "output_type": "stream",
          "name": "stdout",
          "text": [
            "Epoch 1/5\n",
            "250/250 [==============================] - 344s 1s/step - loss: 0.6931 - binary_accuracy: 0.5000 - val_loss: 0.6931 - val_binary_accuracy: 0.5000\n",
            "Epoch 2/5\n",
            "250/250 [==============================] - 320s 1s/step - loss: 0.6931 - binary_accuracy: 0.5000 - val_loss: 0.6931 - val_binary_accuracy: 0.5000\n",
            "Epoch 3/5\n",
            "250/250 [==============================] - 334s 1s/step - loss: 0.6931 - binary_accuracy: 0.5000 - val_loss: 0.6931 - val_binary_accuracy: 0.5000\n",
            "Epoch 4/5\n",
            "122/250 [=============>................] - ETA: 2:28 - loss: 0.6931 - binary_accuracy: 0.5006"
          ]
        },
        {
          "output_type": "error",
          "ename": "KeyboardInterrupt",
          "evalue": "ignored",
          "traceback": [
            "\u001b[0;31m---------------------------------------------------------------------------\u001b[0m",
            "\u001b[0;31mKeyboardInterrupt\u001b[0m                         Traceback (most recent call last)",
            "\u001b[0;32m<ipython-input-167-0d59104c65d6>\u001b[0m in \u001b[0;36m<module>\u001b[0;34m\u001b[0m\n\u001b[0;32m----> 1\u001b[0;31m \u001b[0mrnn_model2\u001b[0m \u001b[0;34m=\u001b[0m \u001b[0mmodel2\u001b[0m\u001b[0;34m.\u001b[0m\u001b[0mfit\u001b[0m\u001b[0;34m(\u001b[0m\u001b[0mtrain_sequences\u001b[0m\u001b[0;34m,\u001b[0m \u001b[0mtrain_labels\u001b[0m\u001b[0;34m,\u001b[0m \u001b[0mbatch_size\u001b[0m \u001b[0;34m=\u001b[0m \u001b[0;36m100\u001b[0m\u001b[0;34m,\u001b[0m \u001b[0mepochs\u001b[0m \u001b[0;34m=\u001b[0m \u001b[0;36m5\u001b[0m\u001b[0;34m,\u001b[0m \u001b[0mvalidation_data\u001b[0m \u001b[0;34m=\u001b[0m \u001b[0;34m(\u001b[0m\u001b[0mtest_sequences\u001b[0m\u001b[0;34m,\u001b[0m \u001b[0mtest_labels\u001b[0m\u001b[0;34m)\u001b[0m\u001b[0;34m)\u001b[0m\u001b[0;34m\u001b[0m\u001b[0;34m\u001b[0m\u001b[0m\n\u001b[0m",
            "\u001b[0;32m/usr/local/lib/python3.7/dist-packages/keras/utils/traceback_utils.py\u001b[0m in \u001b[0;36merror_handler\u001b[0;34m(*args, **kwargs)\u001b[0m\n\u001b[1;32m     62\u001b[0m     \u001b[0mfiltered_tb\u001b[0m \u001b[0;34m=\u001b[0m \u001b[0;32mNone\u001b[0m\u001b[0;34m\u001b[0m\u001b[0;34m\u001b[0m\u001b[0m\n\u001b[1;32m     63\u001b[0m     \u001b[0;32mtry\u001b[0m\u001b[0;34m:\u001b[0m\u001b[0;34m\u001b[0m\u001b[0;34m\u001b[0m\u001b[0m\n\u001b[0;32m---> 64\u001b[0;31m       \u001b[0;32mreturn\u001b[0m \u001b[0mfn\u001b[0m\u001b[0;34m(\u001b[0m\u001b[0;34m*\u001b[0m\u001b[0margs\u001b[0m\u001b[0;34m,\u001b[0m \u001b[0;34m**\u001b[0m\u001b[0mkwargs\u001b[0m\u001b[0;34m)\u001b[0m\u001b[0;34m\u001b[0m\u001b[0;34m\u001b[0m\u001b[0m\n\u001b[0m\u001b[1;32m     65\u001b[0m     \u001b[0;32mexcept\u001b[0m \u001b[0mException\u001b[0m \u001b[0;32mas\u001b[0m \u001b[0me\u001b[0m\u001b[0;34m:\u001b[0m  \u001b[0;31m# pylint: disable=broad-except\u001b[0m\u001b[0;34m\u001b[0m\u001b[0;34m\u001b[0m\u001b[0m\n\u001b[1;32m     66\u001b[0m       \u001b[0mfiltered_tb\u001b[0m \u001b[0;34m=\u001b[0m \u001b[0m_process_traceback_frames\u001b[0m\u001b[0;34m(\u001b[0m\u001b[0me\u001b[0m\u001b[0;34m.\u001b[0m\u001b[0m__traceback__\u001b[0m\u001b[0;34m)\u001b[0m\u001b[0;34m\u001b[0m\u001b[0;34m\u001b[0m\u001b[0m\n",
            "\u001b[0;32m/usr/local/lib/python3.7/dist-packages/keras/engine/training.py\u001b[0m in \u001b[0;36mfit\u001b[0;34m(self, x, y, batch_size, epochs, verbose, callbacks, validation_split, validation_data, shuffle, class_weight, sample_weight, initial_epoch, steps_per_epoch, validation_steps, validation_batch_size, validation_freq, max_queue_size, workers, use_multiprocessing)\u001b[0m\n\u001b[1;32m   1407\u001b[0m                 _r=1):\n\u001b[1;32m   1408\u001b[0m               \u001b[0mcallbacks\u001b[0m\u001b[0;34m.\u001b[0m\u001b[0mon_train_batch_begin\u001b[0m\u001b[0;34m(\u001b[0m\u001b[0mstep\u001b[0m\u001b[0;34m)\u001b[0m\u001b[0;34m\u001b[0m\u001b[0;34m\u001b[0m\u001b[0m\n\u001b[0;32m-> 1409\u001b[0;31m               \u001b[0mtmp_logs\u001b[0m \u001b[0;34m=\u001b[0m \u001b[0mself\u001b[0m\u001b[0;34m.\u001b[0m\u001b[0mtrain_function\u001b[0m\u001b[0;34m(\u001b[0m\u001b[0miterator\u001b[0m\u001b[0;34m)\u001b[0m\u001b[0;34m\u001b[0m\u001b[0;34m\u001b[0m\u001b[0m\n\u001b[0m\u001b[1;32m   1410\u001b[0m               \u001b[0;32mif\u001b[0m \u001b[0mdata_handler\u001b[0m\u001b[0;34m.\u001b[0m\u001b[0mshould_sync\u001b[0m\u001b[0;34m:\u001b[0m\u001b[0;34m\u001b[0m\u001b[0;34m\u001b[0m\u001b[0m\n\u001b[1;32m   1411\u001b[0m                 \u001b[0mcontext\u001b[0m\u001b[0;34m.\u001b[0m\u001b[0masync_wait\u001b[0m\u001b[0;34m(\u001b[0m\u001b[0;34m)\u001b[0m\u001b[0;34m\u001b[0m\u001b[0;34m\u001b[0m\u001b[0m\n",
            "\u001b[0;32m/usr/local/lib/python3.7/dist-packages/tensorflow/python/util/traceback_utils.py\u001b[0m in \u001b[0;36merror_handler\u001b[0;34m(*args, **kwargs)\u001b[0m\n\u001b[1;32m    148\u001b[0m     \u001b[0mfiltered_tb\u001b[0m \u001b[0;34m=\u001b[0m \u001b[0;32mNone\u001b[0m\u001b[0;34m\u001b[0m\u001b[0;34m\u001b[0m\u001b[0m\n\u001b[1;32m    149\u001b[0m     \u001b[0;32mtry\u001b[0m\u001b[0;34m:\u001b[0m\u001b[0;34m\u001b[0m\u001b[0;34m\u001b[0m\u001b[0m\n\u001b[0;32m--> 150\u001b[0;31m       \u001b[0;32mreturn\u001b[0m \u001b[0mfn\u001b[0m\u001b[0;34m(\u001b[0m\u001b[0;34m*\u001b[0m\u001b[0margs\u001b[0m\u001b[0;34m,\u001b[0m \u001b[0;34m**\u001b[0m\u001b[0mkwargs\u001b[0m\u001b[0;34m)\u001b[0m\u001b[0;34m\u001b[0m\u001b[0;34m\u001b[0m\u001b[0m\n\u001b[0m\u001b[1;32m    151\u001b[0m     \u001b[0;32mexcept\u001b[0m \u001b[0mException\u001b[0m \u001b[0;32mas\u001b[0m \u001b[0me\u001b[0m\u001b[0;34m:\u001b[0m\u001b[0;34m\u001b[0m\u001b[0;34m\u001b[0m\u001b[0m\n\u001b[1;32m    152\u001b[0m       \u001b[0mfiltered_tb\u001b[0m \u001b[0;34m=\u001b[0m \u001b[0m_process_traceback_frames\u001b[0m\u001b[0;34m(\u001b[0m\u001b[0me\u001b[0m\u001b[0;34m.\u001b[0m\u001b[0m__traceback__\u001b[0m\u001b[0;34m)\u001b[0m\u001b[0;34m\u001b[0m\u001b[0;34m\u001b[0m\u001b[0m\n",
            "\u001b[0;32m/usr/local/lib/python3.7/dist-packages/tensorflow/python/eager/def_function.py\u001b[0m in \u001b[0;36m__call__\u001b[0;34m(self, *args, **kwds)\u001b[0m\n\u001b[1;32m    913\u001b[0m \u001b[0;34m\u001b[0m\u001b[0m\n\u001b[1;32m    914\u001b[0m       \u001b[0;32mwith\u001b[0m \u001b[0mOptionalXlaContext\u001b[0m\u001b[0;34m(\u001b[0m\u001b[0mself\u001b[0m\u001b[0;34m.\u001b[0m\u001b[0m_jit_compile\u001b[0m\u001b[0;34m)\u001b[0m\u001b[0;34m:\u001b[0m\u001b[0;34m\u001b[0m\u001b[0;34m\u001b[0m\u001b[0m\n\u001b[0;32m--> 915\u001b[0;31m         \u001b[0mresult\u001b[0m \u001b[0;34m=\u001b[0m \u001b[0mself\u001b[0m\u001b[0;34m.\u001b[0m\u001b[0m_call\u001b[0m\u001b[0;34m(\u001b[0m\u001b[0;34m*\u001b[0m\u001b[0margs\u001b[0m\u001b[0;34m,\u001b[0m \u001b[0;34m**\u001b[0m\u001b[0mkwds\u001b[0m\u001b[0;34m)\u001b[0m\u001b[0;34m\u001b[0m\u001b[0;34m\u001b[0m\u001b[0m\n\u001b[0m\u001b[1;32m    916\u001b[0m \u001b[0;34m\u001b[0m\u001b[0m\n\u001b[1;32m    917\u001b[0m       \u001b[0mnew_tracing_count\u001b[0m \u001b[0;34m=\u001b[0m \u001b[0mself\u001b[0m\u001b[0;34m.\u001b[0m\u001b[0mexperimental_get_tracing_count\u001b[0m\u001b[0;34m(\u001b[0m\u001b[0;34m)\u001b[0m\u001b[0;34m\u001b[0m\u001b[0;34m\u001b[0m\u001b[0m\n",
            "\u001b[0;32m/usr/local/lib/python3.7/dist-packages/tensorflow/python/eager/def_function.py\u001b[0m in \u001b[0;36m_call\u001b[0;34m(self, *args, **kwds)\u001b[0m\n\u001b[1;32m    945\u001b[0m       \u001b[0;31m# In this case we have created variables on the first call, so we run the\u001b[0m\u001b[0;34m\u001b[0m\u001b[0;34m\u001b[0m\u001b[0;34m\u001b[0m\u001b[0m\n\u001b[1;32m    946\u001b[0m       \u001b[0;31m# defunned version which is guaranteed to never create variables.\u001b[0m\u001b[0;34m\u001b[0m\u001b[0;34m\u001b[0m\u001b[0;34m\u001b[0m\u001b[0m\n\u001b[0;32m--> 947\u001b[0;31m       \u001b[0;32mreturn\u001b[0m \u001b[0mself\u001b[0m\u001b[0;34m.\u001b[0m\u001b[0m_stateless_fn\u001b[0m\u001b[0;34m(\u001b[0m\u001b[0;34m*\u001b[0m\u001b[0margs\u001b[0m\u001b[0;34m,\u001b[0m \u001b[0;34m**\u001b[0m\u001b[0mkwds\u001b[0m\u001b[0;34m)\u001b[0m  \u001b[0;31m# pylint: disable=not-callable\u001b[0m\u001b[0;34m\u001b[0m\u001b[0;34m\u001b[0m\u001b[0m\n\u001b[0m\u001b[1;32m    948\u001b[0m     \u001b[0;32melif\u001b[0m \u001b[0mself\u001b[0m\u001b[0;34m.\u001b[0m\u001b[0m_stateful_fn\u001b[0m \u001b[0;32mis\u001b[0m \u001b[0;32mnot\u001b[0m \u001b[0;32mNone\u001b[0m\u001b[0;34m:\u001b[0m\u001b[0;34m\u001b[0m\u001b[0;34m\u001b[0m\u001b[0m\n\u001b[1;32m    949\u001b[0m       \u001b[0;31m# Release the lock early so that multiple threads can perform the call\u001b[0m\u001b[0;34m\u001b[0m\u001b[0;34m\u001b[0m\u001b[0;34m\u001b[0m\u001b[0m\n",
            "\u001b[0;32m/usr/local/lib/python3.7/dist-packages/tensorflow/python/eager/function.py\u001b[0m in \u001b[0;36m__call__\u001b[0;34m(self, *args, **kwargs)\u001b[0m\n\u001b[1;32m   2452\u001b[0m        filtered_flat_args) = self._maybe_define_function(args, kwargs)\n\u001b[1;32m   2453\u001b[0m     return graph_function._call_flat(\n\u001b[0;32m-> 2454\u001b[0;31m         filtered_flat_args, captured_inputs=graph_function.captured_inputs)  # pylint: disable=protected-access\n\u001b[0m\u001b[1;32m   2455\u001b[0m \u001b[0;34m\u001b[0m\u001b[0m\n\u001b[1;32m   2456\u001b[0m   \u001b[0;34m@\u001b[0m\u001b[0mproperty\u001b[0m\u001b[0;34m\u001b[0m\u001b[0;34m\u001b[0m\u001b[0m\n",
            "\u001b[0;32m/usr/local/lib/python3.7/dist-packages/tensorflow/python/eager/function.py\u001b[0m in \u001b[0;36m_call_flat\u001b[0;34m(self, args, captured_inputs, cancellation_manager)\u001b[0m\n\u001b[1;32m   1859\u001b[0m       \u001b[0;31m# No tape is watching; skip to running the function.\u001b[0m\u001b[0;34m\u001b[0m\u001b[0;34m\u001b[0m\u001b[0;34m\u001b[0m\u001b[0m\n\u001b[1;32m   1860\u001b[0m       return self._build_call_outputs(self._inference_function.call(\n\u001b[0;32m-> 1861\u001b[0;31m           ctx, args, cancellation_manager=cancellation_manager))\n\u001b[0m\u001b[1;32m   1862\u001b[0m     forward_backward = self._select_forward_and_backward_functions(\n\u001b[1;32m   1863\u001b[0m         \u001b[0margs\u001b[0m\u001b[0;34m,\u001b[0m\u001b[0;34m\u001b[0m\u001b[0;34m\u001b[0m\u001b[0m\n",
            "\u001b[0;32m/usr/local/lib/python3.7/dist-packages/tensorflow/python/eager/function.py\u001b[0m in \u001b[0;36mcall\u001b[0;34m(self, ctx, args, cancellation_manager)\u001b[0m\n\u001b[1;32m    500\u001b[0m               \u001b[0minputs\u001b[0m\u001b[0;34m=\u001b[0m\u001b[0margs\u001b[0m\u001b[0;34m,\u001b[0m\u001b[0;34m\u001b[0m\u001b[0;34m\u001b[0m\u001b[0m\n\u001b[1;32m    501\u001b[0m               \u001b[0mattrs\u001b[0m\u001b[0;34m=\u001b[0m\u001b[0mattrs\u001b[0m\u001b[0;34m,\u001b[0m\u001b[0;34m\u001b[0m\u001b[0;34m\u001b[0m\u001b[0m\n\u001b[0;32m--> 502\u001b[0;31m               ctx=ctx)\n\u001b[0m\u001b[1;32m    503\u001b[0m         \u001b[0;32melse\u001b[0m\u001b[0;34m:\u001b[0m\u001b[0;34m\u001b[0m\u001b[0;34m\u001b[0m\u001b[0m\n\u001b[1;32m    504\u001b[0m           outputs = execute.execute_with_cancellation(\n",
            "\u001b[0;32m/usr/local/lib/python3.7/dist-packages/tensorflow/python/eager/execute.py\u001b[0m in \u001b[0;36mquick_execute\u001b[0;34m(op_name, num_outputs, inputs, attrs, ctx, name)\u001b[0m\n\u001b[1;32m     53\u001b[0m     \u001b[0mctx\u001b[0m\u001b[0;34m.\u001b[0m\u001b[0mensure_initialized\u001b[0m\u001b[0;34m(\u001b[0m\u001b[0;34m)\u001b[0m\u001b[0;34m\u001b[0m\u001b[0;34m\u001b[0m\u001b[0m\n\u001b[1;32m     54\u001b[0m     tensors = pywrap_tfe.TFE_Py_Execute(ctx._handle, device_name, op_name,\n\u001b[0;32m---> 55\u001b[0;31m                                         inputs, attrs, num_outputs)\n\u001b[0m\u001b[1;32m     56\u001b[0m   \u001b[0;32mexcept\u001b[0m \u001b[0mcore\u001b[0m\u001b[0;34m.\u001b[0m\u001b[0m_NotOkStatusException\u001b[0m \u001b[0;32mas\u001b[0m \u001b[0me\u001b[0m\u001b[0;34m:\u001b[0m\u001b[0;34m\u001b[0m\u001b[0;34m\u001b[0m\u001b[0m\n\u001b[1;32m     57\u001b[0m     \u001b[0;32mif\u001b[0m \u001b[0mname\u001b[0m \u001b[0;32mis\u001b[0m \u001b[0;32mnot\u001b[0m \u001b[0;32mNone\u001b[0m\u001b[0;34m:\u001b[0m\u001b[0;34m\u001b[0m\u001b[0;34m\u001b[0m\u001b[0m\n",
            "\u001b[0;31mKeyboardInterrupt\u001b[0m: "
          ]
        }
      ]
    },
    {
      "cell_type": "markdown",
      "source": [
        "# Food for Thought Questions"
      ],
      "metadata": {
        "id": "OaYUfrg5dTZW"
      }
    },
    {
      "cell_type": "markdown",
      "source": [
        "## Extra\n",
        "You may sometimes get a higher test accuracy, while the test loss is also increasing (how can this be?)!"
      ],
      "metadata": {
        "id": "f3JUPfqNwB8v"
      }
    },
    {
      "cell_type": "markdown",
      "source": [
        "If the loss increases and the accuracy increase too is because your regularization techniques are working well and you're fighting the overfitting problem."
      ],
      "metadata": {
        "id": "dnID40xtwBWe"
      }
    },
    {
      "cell_type": "markdown",
      "source": [
        "## Question 1:\n",
        "All sequences are padded to the length of the longest sequence in the dataset. Why is this wasteful? Can you think of a smarter padding scheme that is more efficient? Consider the fact that RNNs can work on arbitrary sequence lengths, and that training minibatches are pretty much independent of each other."
      ],
      "metadata": {
        "id": "QMnWbwMQdXYf"
      }
    },
    {
      "cell_type": "markdown",
      "source": [
        "There can be extremely short sequences that may need to be padded with a lot of 0s to ensure every sequence has the same length. Maybe we can create batches out of sequences and then pad them according to the longest sequence in that particular batch."
      ],
      "metadata": {
        "id": "42d7EifvQJWx"
      }
    },
    {
      "cell_type": "markdown",
      "source": [
        "## Question 2:\n",
        "Between truncating long sequences and removing them, which option do you think is better? Why?"
      ],
      "metadata": {
        "id": "V4b45tTUdjbu"
      }
    },
    {
      "cell_type": "markdown",
      "source": [
        "I think it is better to truncate long sequences as it could be possible that certain long sequences are necessary to train the model to classify a certain output. "
      ],
      "metadata": {
        "id": "smZ4ZTG_Z83B"
      }
    },
    {
      "cell_type": "markdown",
      "source": [
        "## Question 3:\n",
        "Can you think of a way to avoid the one-hot vectors completely? Even if you cannot implement it, a conceptual idea is fine."
      ],
      "metadata": {
        "id": "YFGmrE1ed1BF"
      }
    },
    {
      "cell_type": "markdown",
      "source": [
        "a one-hot is a group of bits among which the legal combinations of values are only those with a single high (1) bit and all the others low (0)\n",
        "-> Instead, use word vectors to generate word embeddings, which are \"..a real number, vector representation of a word... words with similar meaning will have vector representations that are close together in the embedding space\" "
      ],
      "metadata": {
        "id": "1VAXpDB2aWpF"
      }
    },
    {
      "cell_type": "markdown",
      "source": [
        "## Question 4:\n",
        "For the output and loss, you actually have two options:\n",
        "\n",
        "1.   You could have an output layer with 2 units, and use sparse categorical cross-entropy as before (i.e. softmax activation). Here, whichever output is higher “wins”.\n",
        "2.   You can have a single output unit and use binary cross-entropy (i.e. sigmoid activation). Here, the output is usually thresholded at 0.5.\n",
        "\n",
        "How can it be that we can choose how many outputs we have, i.e. how can both be correct? Are there differences between both choices as well as (dis)advantages relative to each other?"
      ],
      "metadata": {
        "id": "TxjZ3b4Dd6nH"
      }
    },
    {
      "cell_type": "markdown",
      "source": [
        "Using categorical cross-entropy we provide a classification, let's say 1 or 0, based on the outputs of both output units. The higher value is considered as the prediction. We do the same thing in binary cross-entropy by having just one output unit and providing a threshold. Any value above the threshold can be classified as 1, and anything below as 0. So these two methods technically do the same thing. \n",
        "\n",
        "---\n",
        "(Dis)Advantages?"
      ],
      "metadata": {
        "id": "T506CDtyd13w"
      }
    },
    {
      "cell_type": "markdown",
      "source": [
        "## Question 5:\n",
        "All sequences start with the same special “beginning of sequence” token (coded by index 1). Given this fact, is there a point in learning an initial state? Why (not)?"
      ],
      "metadata": {
        "id": "iMpE3WYaeFue"
      }
    },
    {
      "cell_type": "markdown",
      "source": [
        "\"If there are enough sequences or state resets in the training data (e.g., this will often be the case if we are doing sequence classification), it may make sense to train the initial state as a variable. This way, the model can learn a good default state. If we have only a few state resets, however, training the initial state as a variable may result in overfitting on the start of each sequence.\""
      ],
      "metadata": {
        "id": "tMzGwW05cJWH"
      }
    },
    {
      "cell_type": "markdown",
      "source": [
        "## Question 6:\n",
        "pad_sequences allows for pre or post padding. Try both to see the difference. Which option do you think is better? Recall that we use the final time step output from our model."
      ],
      "metadata": {
        "id": "USO7t8P6eLeV"
      }
    },
    {
      "cell_type": "markdown",
      "source": [
        "Pre padding provided better results.\n",
        "Since we use the final time step output, by pre-padding the sequences, all the zeros would appear at the start, i.e., further away from the output. This ensures that the actual information is closer to the output. (short/long term dependencies?)"
      ],
      "metadata": {
        "id": "NguOn506cQ6r"
      }
    },
    {
      "cell_type": "markdown",
      "source": [
        "## Question 7:\n",
        "Can you think of a way to prevent the RNN from computing new states on padded time steps? One idea might be to “pass through” the previous state in case the current time step is padding. Note that, within a batch, some sequences might be padded for a given time step while others are not."
      ],
      "metadata": {
        "id": "mMLS1IcHeRNF"
      }
    },
    {
      "cell_type": "markdown",
      "source": [
        "We can use the mask parameter, as seen in the Keras RNN layer - \"mask: Binary tensor of shape [batch_size, timesteps] indicating whether a given timestep should be masked. An individual True entry indicates that the corresponding timestep should be utilized, while a False entry indicates that the corresponding timestep should be ignored.\""
      ],
      "metadata": {
        "id": "apqTxxczc8th"
      }
    },
    {
      "cell_type": "markdown",
      "source": [
        "## Question 8:\n",
        "\n",
        "\n",
        "*  Instead of only using the final output, average (or sum?) the logits (pre-sigmoid) of all time steps and use this as the output instead.\n",
        "*  Instead of the logits, average the states at all time steps and compute the output based on this average state. Is this different from the above option?\n",
        "*  Compute logits and sigmoids for each output, and average the per-step probabilities.\n",
        "\n",
        "\n",
        "What could be the advantage of using methods like the above? What are disadvantages? Can you think of other methods to incorporate the full output sequence instead of just the final step?"
      ],
      "metadata": {
        "id": "gFyMmDoheWRG"
      }
    }
  ]
}
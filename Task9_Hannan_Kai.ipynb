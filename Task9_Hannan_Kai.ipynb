{
  "cells": [
    {
      "cell_type": "markdown",
      "metadata": {
        "id": "u0U1NkXx_7_b"
      },
      "source": [
        "# Assignment 9: Self-Supervised Learning - Kai Ponel & Hannan Mahadik\n",
        "\n"
      ]
    },
    {
      "cell_type": "markdown",
      "metadata": {
        "id": "JqxwZshS6T01"
      },
      "source": [
        "# Imports"
      ]
    },
    {
      "cell_type": "code",
      "execution_count": 1,
      "metadata": {
        "id": "YK7zbxob70r8"
      },
      "outputs": [],
      "source": [
        "import tensorflow as tf\n",
        "import numpy as np\n",
        "from matplotlib import pyplot as plt\n",
        "tfkl = tf.keras.layers"
      ]
    },
    {
      "cell_type": "markdown",
      "metadata": {
        "id": "pN9z4geq6W1e"
      },
      "source": [
        "# Dataset"
      ]
    },
    {
      "cell_type": "code",
      "execution_count": 2,
      "metadata": {
        "colab": {
          "base_uri": "https://localhost:8080/"
        },
        "id": "dVnMeUCd6ZdW",
        "outputId": "e3935c05-d0c5-41d0-f8a5-2c137a7c06e4"
      },
      "outputs": [
        {
          "output_type": "stream",
          "name": "stdout",
          "text": [
            "Downloading data from https://www.cs.toronto.edu/~kriz/cifar-10-python.tar.gz\n",
            "170498071/170498071 [==============================] - 6s 0us/step\n"
          ]
        }
      ],
      "source": [
        "cifar10 = tf.keras.datasets.cifar10\n",
        "(train_images, train_labels), (test_images, test_labels) = cifar10.load_data()"
      ]
    },
    {
      "cell_type": "code",
      "execution_count": 3,
      "metadata": {
        "id": "gRYmtgr16nHG"
      },
      "outputs": [],
      "source": [
        "X_train = train_images.astype('float32') / 255.0\n",
        "X_test = test_images.astype('float32') / 255.0\n",
        "\n",
        "y_train= train_labels.astype(np.int32).reshape((-1,))\n",
        "y_test = test_labels.astype(np.int32).reshape((-1,))"
      ]
    },
    {
      "cell_type": "code",
      "execution_count": 4,
      "metadata": {
        "id": "E5HuvX0S6pOT"
      },
      "outputs": [],
      "source": [
        "batch_size = 256"
      ]
    },
    {
      "cell_type": "code",
      "source": [
        "def gaussian_noise(batch, std):\n",
        "  shape = batch.shape[1:]\n",
        "  noise = np.random.normal(scale=std, size=shape)\n",
        "  return batch + noise\n",
        "\n",
        "dae_train_dataset = (tf.data.Dataset.from_tensor_slices((X_train, X_train))\n",
        "  #.shuffle(1024)\n",
        "  .batch(batch_size)\n",
        "  .map(lambda X, y: (gaussian_noise(X, 0.1), y)))\n",
        "\n",
        "dae_test_dataset = (tf.data.Dataset.from_tensor_slices((X_test, X_test))\n",
        "  .shuffle(1024)\n",
        "  .batch(batch_size))"
      ],
      "metadata": {
        "id": "aL5NG7Xo63i-"
      },
      "execution_count": 5,
      "outputs": []
    },
    {
      "cell_type": "code",
      "source": [
        "for X_noise_batch, X_batch in dae_train_dataset:\n",
        "  image = tf.cast(X_noise_batch[1] * 255, tf.int32)\n",
        "  plt.imshow(image, cmap = \"Greys_r\")\n",
        "\n",
        "  break"
      ],
      "metadata": {
        "colab": {
          "base_uri": "https://localhost:8080/",
          "height": 283
        },
        "id": "KdTo8Zxr61WE",
        "outputId": "31a17a72-28da-47c4-e2c7-b3191f3bc44f"
      },
      "execution_count": 6,
      "outputs": [
        {
          "output_type": "stream",
          "name": "stderr",
          "text": [
            "WARNING:matplotlib.image:Clipping input data to the valid range for imshow with RGB data ([0..1] for floats or [0..255] for integers).\n"
          ]
        },
        {
          "output_type": "display_data",
          "data": {
            "text/plain": [
              "<Figure size 432x288 with 1 Axes>"
            ],
            "image/png": "[encoded data removed]"
          },
          "metadata": {
            "needs_background": "light"
          }
        }
      ]
    },
    {
      "cell_type": "code",
      "source": [
        "cl_train_dataset = (tf.data.Dataset.from_tensor_slices((X_train, y_train))\n",
        "  .shuffle(1024)\n",
        "  .batch(batch_size))\n",
        "\n",
        "cl_test_dataset = (tf.data.Dataset.from_tensor_slices((X_test, y_test))\n",
        "  .shuffle(1024)\n",
        "  .batch(batch_size))"
      ],
      "metadata": {
        "id": "5t87Hoch67PZ"
      },
      "execution_count": 7,
      "outputs": []
    },
    {
      "cell_type": "markdown",
      "source": [
        "# Classification Head"
      ],
      "metadata": {
        "id": "LvX3VFk96-Fr"
      }
    },
    {
      "cell_type": "code",
      "source": [
        "class ClassificationHead(tf.keras.models.Model):\n",
        "  def __init__(self, num_hidden_units, num_output_units):\n",
        "    super(ClassificationHead, self).__init__()\n",
        "\n",
        "    self.num_hidden_units = num_hidden_units\n",
        "    self.num_output_units = num_output_units\n",
        "\n",
        "  def build(self, input_shape):\n",
        "    \n",
        "    self.hidden_layer = tf.keras.layers.Dense(self.num_hidden_units, activation='ReLU',\n",
        "                                         input_shape = input_shape)\n",
        "    self.output_layer = tf.keras.layers.Dense(self.num_output_units, \n",
        "                                         input_shape = (input_shape[0], \n",
        "                                                        num_hidden_units))\n",
        "    \n",
        "  def call(self, input):\n",
        "    h = self.hidden_layer(input)\n",
        "    y_pred = self.output_layer(h)\n",
        "    \n",
        "    return y_pred"
      ],
      "metadata": {
        "id": "ETFqNYTl6_-6"
      },
      "execution_count": 8,
      "outputs": []
    },
    {
      "cell_type": "code",
      "source": [
        "encoding_dim = 64\n",
        "num_hidden_units = 128\n",
        "num_output_units = 10"
      ],
      "metadata": {
        "id": "5Tqbr6Mc7Wxz"
      },
      "execution_count": 9,
      "outputs": []
    },
    {
      "cell_type": "markdown",
      "source": [
        "# MLP Encoder"
      ],
      "metadata": {
        "id": "J23HWHVD7Y8r"
      }
    },
    {
      "cell_type": "code",
      "source": [
        "# Encoder\n",
        "image_input = tf.keras.Input((32, 32, 3))\n",
        "flattened = tf.keras.layers.Flatten()(image_input)\n",
        "encoding1 = tf.keras.layers.Dense(256, activation='relu')(flattened)\n",
        "encoding2 = tf.keras.layers.Dense(encoding_dim, activation='relu')(encoding1)\n",
        "mlp_encoder = tf.keras.Model(image_input, encoding2)\n",
        "\n",
        "# Decoder\n",
        "code_input = tf.keras.Input((encoding_dim,))\n",
        "decoding1 = tf.keras.layers.Dense(256, activation='relu')(code_input)\n",
        "decoding2 = tf.keras.layers.Dense(32 * 32 * 3, activation='sigmoid')(decoding1)\n",
        "reshaped = tf.keras.layers.Reshape((-1, 32, 32, 3))(decoding2)\n",
        "mlp_decoder = tf.keras.Model(code_input, reshaped)\n",
        "\n",
        "# Autoencoder\n",
        "mlp_autoencoder = tf.keras.Model(image_input, mlp_decoder(mlp_encoder(image_input)))"
      ],
      "metadata": {
        "id": "c41c5cUJ7a2i"
      },
      "execution_count": 10,
      "outputs": []
    },
    {
      "cell_type": "code",
      "source": [
        "optimizer = tf.keras.optimizers.Adam()\n",
        "loss_fn = tf.keras.losses.BinaryCrossentropy()\n",
        "\n",
        "mlp_autoencoder.compile(optimizer = optimizer, loss = loss_fn)"
      ],
      "metadata": {
        "id": "QmYCkbdk7kDF"
      },
      "execution_count": 11,
      "outputs": []
    },
    {
      "cell_type": "code",
      "source": [
        "mlp_autoencoder.fit(dae_train_dataset, epochs = 5, 1\n",
        "                    validation_data = dae_test_dataset)"
      ],
      "metadata": {
        "colab": {
          "base_uri": "https://localhost:8080/"
        },
        "id": "Zmq7F41g7p3r",
        "outputId": "3cf63c63-dcfe-4b8c-a07c-c143f969bd43"
      },
      "execution_count": 12,
      "outputs": [
        {
          "output_type": "stream",
          "name": "stdout",
          "text": [
            "Epoch 1/5\n",
            "196/196 [==============================] - 32s 152ms/step - loss: 0.6895 - val_loss: 0.6903\n",
            "Epoch 2/5\n",
            "196/196 [==============================] - 30s 152ms/step - loss: 0.6892 - val_loss: 0.6897\n",
            "Epoch 3/5\n",
            "196/196 [==============================] - 30s 153ms/step - loss: 0.6892 - val_loss: 0.6896\n",
            "Epoch 4/5\n",
            "196/196 [==============================] - 30s 153ms/step - loss: 0.6892 - val_loss: 0.6895\n",
            "Epoch 5/5\n",
            "196/196 [==============================] - 30s 153ms/step - loss: 0.6891 - val_loss: 0.6894\n"
          ]
        },
        {
          "output_type": "execute_result",
          "data": {
            "text/plain": [
              "<keras.callbacks.History at 0x7f9fd032ebe0>"
            ]
          },
          "metadata": {},
          "execution_count": 12
        }
      ]
    },
    {
      "cell_type": "markdown",
      "source": [
        "# CNN Encoder"
      ],
      "metadata": {
        "id": "8EAg4uFN7zvC"
      }
    },
    {
      "cell_type": "code",
      "source": [
        "# Encoder\n",
        "image_input = tf.keras.Input((32, 32, 3))                                                    # 32x32x3\n",
        "conv1 = tf.keras.layers.Conv2D(32, 3, padding='same', activation = 'relu')(image_input)      # 32x32x32\n",
        "pool1 = tf.keras.layers.MaxPool2D()(conv1)                                                   # 16x16x32\n",
        "conv2 = tf.keras.layers.Conv2D(64, 3, padding='same', activation = 'relu')(pool1)            # 16x16x64\n",
        "pool2 = tf.keras.layers.MaxPool2D()(conv2)                                                   # 8x8x64\n",
        "conv3 = tf.keras.layers.Conv2D(128, 3, padding='same', activation = 'relu')(pool2)           # 8x8x128\n",
        "pool3 = tf.keras.layers.MaxPool2D()(conv3)                                                   # 4x4x128\n",
        "flattened = tf.keras.layers.Flatten()(pool3)\n",
        "encoding = tf.keras.layers.Dense(encoding_dim, activation = 'relu')(flattened)\n",
        "cnn_encoder = tf.keras.Model(image_input, encoding)\n",
        "\n",
        "# Decoder\n",
        "code_input = tf.keras.Input((encoding_dim,))\n",
        "dense = tf.keras.layers.Dense(4 * 4 * 128, activation = 'relu')(code_input)\n",
        "reshaped = tf.keras.layers.Reshape((4, 4, 128))(dense)                                       # 4x4x128\n",
        "deconv1 = tf.keras.layers.Conv2DTranspose(64, 5, activation='relu')(reshaped)                # 8x8x64\n",
        "deconv2 = tf.keras.layers.Conv2DTranspose(32, 9, activation='relu')(deconv1)                 # 16x16x32\n",
        "deconv3 = tf.keras.layers.Conv2DTranspose(3, 17, activation='sigmoid')(deconv2)              # 32x32x3\n",
        "cnn_decoder = tf.keras.Model(code_input, deconv3)\n",
        "\n",
        "# Autoencoder\n",
        "cnn_autoencoder = tf.keras.Model(image_input, cnn_decoder(cnn_encoder(image_input)))"
      ],
      "metadata": {
        "id": "sEdG8ARB71SM"
      },
      "execution_count": 13,
      "outputs": []
    },
    {
      "cell_type": "code",
      "source": [
        "optimizer = tf.keras.optimizers.Adam()\n",
        "loss_fn = tf.keras.losses.BinaryCrossentropy()\n",
        "\n",
        "cnn_autoencoder.compile(optimizer = optimizer, loss = loss_fn)"
      ],
      "metadata": {
        "id": "HX2PQ_x772lC"
      },
      "execution_count": 14,
      "outputs": []
    },
    {
      "cell_type": "code",
      "source": [
        "cnn_autoencoder.fit(dae_train_dataset, epochs = 5, \n",
        "                    validation_data = dae_test_dataset)"
      ],
      "metadata": {
        "colab": {
          "base_uri": "https://localhost:8080/"
        },
        "id": "8GT0D1VJ74rI",
        "outputId": "de052016-faaf-48e0-b170-c951da4b2802"
      },
      "execution_count": 15,
      "outputs": [
        {
          "output_type": "stream",
          "name": "stdout",
          "text": [
            "Epoch 1/5\n",
            "196/196 [==============================] - 12s 26ms/step - loss: 0.6465 - val_loss: 0.6377\n",
            "Epoch 2/5\n",
            "196/196 [==============================] - 5s 24ms/step - loss: 0.6094 - val_loss: 0.6339\n",
            "Epoch 3/5\n",
            "196/196 [==============================] - 5s 24ms/step - loss: 0.5993 - val_loss: 0.6101\n",
            "Epoch 4/5\n",
            "196/196 [==============================] - 5s 24ms/step - loss: 0.5916 - val_loss: 0.6191\n",
            "Epoch 5/5\n",
            "196/196 [==============================] - 5s 24ms/step - loss: 0.5888 - val_loss: 0.6322\n"
          ]
        },
        {
          "output_type": "execute_result",
          "data": {
            "text/plain": [
              "<keras.callbacks.History at 0x7f9f74407b50>"
            ]
          },
          "metadata": {},
          "execution_count": 15
        }
      ]
    },
    {
      "cell_type": "markdown",
      "source": [
        "# Denoising CNN Autoencoder"
      ],
      "metadata": {
        "id": "jOSrdiL68J8H"
      }
    },
    {
      "cell_type": "code",
      "source": [
        "# Encoder\n",
        "image_input = tf.keras.Input((32, 32, 3))                                                    # 32x32x3\n",
        "conv1 = tf.keras.layers.Conv2D(32, 3, padding='same', activation = 'relu')(image_input)      # 32x32x32\n",
        "pool1 = tf.keras.layers.MaxPool2D()(conv1)                                                   # 16x16x32\n",
        "conv2 = tf.keras.layers.Conv2D(64, 3, padding='same', activation = 'relu')(pool1)            # 16x16x64\n",
        "pool2 = tf.keras.layers.MaxPool2D()(conv2)                                                   # 8x8x64\n",
        "conv3 = tf.keras.layers.Conv2D(128, 3, padding='same', activation = 'relu')(pool2)           # 8x8x128\n",
        "pool3 = tf.keras.layers.MaxPool2D()(conv3)                                                   # 4x4x128\n",
        "flattened = tf.keras.layers.Flatten()(pool3)\n",
        "encoding = tf.keras.layers.Dense(encoding_dim, activation = 'relu')(flattened)\n",
        "denoising_cnn_encoder = tf.keras.Model(image_input, encoding)\n",
        "\n",
        "# Decoder\n",
        "code_input = tf.keras.Input((encoding_dim,))\n",
        "dense = tf.keras.layers.Dense(4 * 4 * 128, activation = 'relu')(code_input)\n",
        "reshaped = tf.keras.layers.Reshape((4, 4, 128))(dense)                                       # 4x4x128\n",
        "deconv1 = tf.keras.layers.Conv2DTranspose(64, 5, activation='relu')(reshaped)                # 8x8x64\n",
        "deconv2 = tf.keras.layers.Conv2DTranspose(32, 9, activation='relu')(deconv1)                 # 16x16x32\n",
        "deconv3 = tf.keras.layers.Conv2DTranspose(3, 17, activation='sigmoid')(deconv2)              # 32x32x3\n",
        "denoising_cnn_decoder = tf.keras.Model(code_input, deconv3)\n",
        "\n",
        "# Autoencoder\n",
        "denoising_cnn_autoencoder = tf.keras.Model(\n",
        "    image_input, denoising_cnn_decoder(denoising_cnn_encoder(image_input)))"
      ],
      "metadata": {
        "id": "pmuIgbZj8ObQ"
      },
      "execution_count": 18,
      "outputs": []
    },
    {
      "cell_type": "code",
      "source": [
        "optimizer = tf.keras.optimizers.Adam()\n",
        "loss_fn = tf.keras.losses.BinaryCrossentropy()\n",
        "\n",
        "denoising_cnn_autoencoder.compile(optimizer = optimizer, loss = loss_fn)"
      ],
      "metadata": {
        "id": "wfykxrvQ8ifP"
      },
      "execution_count": 19,
      "outputs": []
    },
    {
      "cell_type": "code",
      "source": [
        "denoising_cnn_autoencoder.fit(dae_train_dataset, epochs = 5,\n",
        "                              validation_data = dae_test_dataset)"
      ],
      "metadata": {
        "colab": {
          "base_uri": "https://localhost:8080/"
        },
        "id": "pyY8ysvc8npO",
        "outputId": "a7136c05-bbf7-4aae-d9fd-926e1c4949c0"
      },
      "execution_count": 20,
      "outputs": [
        {
          "output_type": "stream",
          "name": "stdout",
          "text": [
            "Epoch 1/5\n",
            "196/196 [==============================] - 6s 25ms/step - loss: 0.6449 - val_loss: 0.6530\n",
            "Epoch 2/5\n",
            "196/196 [==============================] - 5s 24ms/step - loss: 0.6081 - val_loss: 0.6173\n",
            "Epoch 3/5\n",
            "196/196 [==============================] - 5s 24ms/step - loss: 0.5984 - val_loss: 0.6270\n",
            "Epoch 4/5\n",
            "196/196 [==============================] - 5s 24ms/step - loss: 0.5934 - val_loss: 0.6135\n",
            "Epoch 5/5\n",
            "196/196 [==============================] - 5s 24ms/step - loss: 0.5905 - val_loss: 0.6342\n"
          ]
        },
        {
          "output_type": "execute_result",
          "data": {
            "text/plain": [
              "<keras.callbacks.History at 0x7f9f74407eb0>"
            ]
          },
          "metadata": {},
          "execution_count": 20
        }
      ]
    },
    {
      "cell_type": "markdown",
      "source": [
        "# MLP Classification"
      ],
      "metadata": {
        "id": "6v-zV_P38qGf"
      }
    },
    {
      "cell_type": "code",
      "source": [
        "image_input = tf.keras.Input((32, 32, 3))\n",
        "flatten = tf.keras.layers.Flatten()(image_input)\n",
        "layer1 = tf.keras.layers.Dense(256, activation='relu')(flatten)\n",
        "layer2 = tf.keras.layers.Dense(encoding_dim, activation='relu')(layer1)\n",
        "layer3 = tf.keras.layers.Dense(256, activation='relu')(layer2)\n",
        "output = tf.keras.layers.Dense(10)(layer3)\n",
        "\n",
        "simp_mlp_class_model = tf.keras.Model(image_input, output)\n",
        "\n",
        "loss_function = tf.losses.SparseCategoricalCrossentropy(from_logits=True)\n",
        "optimizer = tf.keras.optimizers.Adam()\n",
        "metrics = [tf.keras.metrics.CategoricalAccuracy()]\n",
        "simp_mlp_class_model.compile(loss = loss_function, optimizer = optimizer, metrics = metrics)"
      ],
      "metadata": {
        "id": "0nuczSKy8tek"
      },
      "execution_count": 21,
      "outputs": []
    },
    {
      "cell_type": "code",
      "source": [
        "simp_mlp_class_model.fit(cl_train_dataset, epochs = 5, validation_data = cl_test_dataset)"
      ],
      "metadata": {
        "colab": {
          "base_uri": "https://localhost:8080/"
        },
        "id": "TYG3zjrV80qt",
        "outputId": "2588ea62-f3f5-4af9-fd39-0454853bd3d7"
      },
      "execution_count": 22,
      "outputs": [
        {
          "output_type": "stream",
          "name": "stdout",
          "text": [
            "Epoch 1/5\n",
            "196/196 [==============================] - 2s 6ms/step - loss: 1.9040 - categorical_accuracy: 0.1123 - val_loss: 1.7261 - val_categorical_accuracy: 0.1136\n",
            "Epoch 2/5\n",
            "196/196 [==============================] - 1s 7ms/step - loss: 1.6938 - categorical_accuracy: 0.1026 - val_loss: 1.6230 - val_categorical_accuracy: 0.1236\n",
            "Epoch 3/5\n",
            "196/196 [==============================] - 1s 7ms/step - loss: 1.6133 - categorical_accuracy: 0.1004 - val_loss: 1.5851 - val_categorical_accuracy: 0.1161\n",
            "Epoch 4/5\n",
            "196/196 [==============================] - 1s 7ms/step - loss: 1.5486 - categorical_accuracy: 0.0999 - val_loss: 1.5374 - val_categorical_accuracy: 0.1041\n",
            "Epoch 5/5\n",
            "196/196 [==============================] - 1s 7ms/step - loss: 1.5088 - categorical_accuracy: 0.0994 - val_loss: 1.5038 - val_categorical_accuracy: 0.0923\n"
          ]
        },
        {
          "output_type": "execute_result",
          "data": {
            "text/plain": [
              "<keras.callbacks.History at 0x7f9f5e75c940>"
            ]
          },
          "metadata": {},
          "execution_count": 22
        }
      ]
    },
    {
      "cell_type": "markdown",
      "source": [
        "# Autoencoder with classification (non trainable encoder):\n"
      ],
      "metadata": {
        "id": "e4rBJCwfbVnf"
      }
    },
    {
      "cell_type": "markdown",
      "source": [
        "## MLP "
      ],
      "metadata": {
        "id": "L50cxC1xbbGY"
      }
    },
    {
      "cell_type": "code",
      "source": [
        "image_input = tf.keras.Input((32, 32, 3))\n",
        "mlp_encoder.trainable = False\n",
        "classifier1 = ClassificationHead(256, 10)\n",
        "mlp_classifier = tf.keras.Model(image_input, classifier1(mlp_encoder(image_input)))\n",
        "\n",
        "loss_function = tf.losses.SparseCategoricalCrossentropy(from_logits=True)\n",
        "optimizer = tf.keras.optimizers.Adam()\n",
        "metrics = [tf.keras.metrics.CategoricalAccuracy()]\n",
        "mlp_classifier.compile(loss = loss_function, optimizer = optimizer, metrics = metrics)"
      ],
      "metadata": {
        "id": "KXg-J7-QbhZm"
      },
      "execution_count": 24,
      "outputs": []
    },
    {
      "cell_type": "code",
      "source": [
        "mlp_classifier.fit(cl_train_dataset, epochs = 5, validation_data = cl_test_dataset)"
      ],
      "metadata": {
        "colab": {
          "base_uri": "https://localhost:8080/"
        },
        "id": "4AyoUpm7cs3K",
        "outputId": "5e3be3a3-9667-4f45-b705-3ae35ba4a748"
      },
      "execution_count": 25,
      "outputs": [
        {
          "output_type": "stream",
          "name": "stdout",
          "text": [
            "Epoch 1/5\n",
            "196/196 [==============================] - 2s 7ms/step - loss: 2.2766 - categorical_accuracy: 0.3554 - val_loss: 2.2420 - val_categorical_accuracy: 0.4468\n",
            "Epoch 2/5\n",
            "196/196 [==============================] - 1s 6ms/step - loss: 2.2150 - categorical_accuracy: 0.2855 - val_loss: 2.1988 - val_categorical_accuracy: 0.3301\n",
            "Epoch 3/5\n",
            "196/196 [==============================] - 1s 7ms/step - loss: 2.1936 - categorical_accuracy: 0.2340 - val_loss: 2.1921 - val_categorical_accuracy: 0.2791\n",
            "Epoch 4/5\n",
            "196/196 [==============================] - 1s 7ms/step - loss: 2.1895 - categorical_accuracy: 0.2214 - val_loss: 2.1911 - val_categorical_accuracy: 0.2843\n",
            "Epoch 5/5\n",
            "196/196 [==============================] - 1s 7ms/step - loss: 2.1876 - categorical_accuracy: 0.2129 - val_loss: 2.1883 - val_categorical_accuracy: 0.2330\n"
          ]
        },
        {
          "output_type": "execute_result",
          "data": {
            "text/plain": [
              "<keras.callbacks.History at 0x7f9f5e70cac0>"
            ]
          },
          "metadata": {},
          "execution_count": 25
        }
      ]
    },
    {
      "cell_type": "markdown",
      "source": [
        "## CNN Autoencoder"
      ],
      "metadata": {
        "id": "dZ9ADzE3dFIw"
      }
    },
    {
      "cell_type": "code",
      "source": [
        "image_input = tf.keras.Input((32, 32, 3))\n",
        "cnn_encoder.trainable = False\n",
        "classifier2 = ClassificationHead(256, 10)\n",
        "cnn_classifier = tf.keras.Model(image_input, classifier2(cnn_encoder(image_input)))\n",
        "\n",
        "loss_function = tf.losses.SparseCategoricalCrossentropy(from_logits=True)\n",
        "optimizer = tf.keras.optimizers.Adam()\n",
        "metrics = [tf.keras.metrics.CategoricalAccuracy()]\n",
        "cnn_classifier.compile(loss = loss_function, optimizer = optimizer, metrics = metrics)"
      ],
      "metadata": {
        "id": "eXXYjwNZdLA6"
      },
      "execution_count": 26,
      "outputs": []
    },
    {
      "cell_type": "code",
      "source": [
        "cnn_classifier.fit(cl_train_dataset, epochs = 5, validation_data = cl_test_dataset)"
      ],
      "metadata": {
        "colab": {
          "base_uri": "https://localhost:8080/"
        },
        "id": "9q7l4uAKdcmy",
        "outputId": "70547f44-ba33-4d09-e3a8-03b6276be0f0"
      },
      "execution_count": 27,
      "outputs": [
        {
          "output_type": "stream",
          "name": "stdout",
          "text": [
            "Epoch 1/5\n",
            "196/196 [==============================] - 2s 10ms/step - loss: 1.9421 - categorical_accuracy: 0.1083 - val_loss: 1.8066 - val_categorical_accuracy: 0.0667\n",
            "Epoch 2/5\n",
            "196/196 [==============================] - 2s 9ms/step - loss: 1.7710 - categorical_accuracy: 0.0902 - val_loss: 1.7318 - val_categorical_accuracy: 0.0739\n",
            "Epoch 3/5\n",
            "196/196 [==============================] - 2s 9ms/step - loss: 1.7123 - categorical_accuracy: 0.0891 - val_loss: 1.6896 - val_categorical_accuracy: 0.0745\n",
            "Epoch 4/5\n",
            "196/196 [==============================] - 2s 9ms/step - loss: 1.6733 - categorical_accuracy: 0.0883 - val_loss: 1.6659 - val_categorical_accuracy: 0.0631\n",
            "Epoch 5/5\n",
            "196/196 [==============================] - 2s 9ms/step - loss: 1.6442 - categorical_accuracy: 0.0887 - val_loss: 1.6250 - val_categorical_accuracy: 0.0723\n"
          ]
        },
        {
          "output_type": "execute_result",
          "data": {
            "text/plain": [
              "<keras.callbacks.History at 0x7f9f5e3d6a60>"
            ]
          },
          "metadata": {},
          "execution_count": 27
        }
      ]
    },
    {
      "cell_type": "markdown",
      "source": [
        "## CNN denoise Autoencoder"
      ],
      "metadata": {
        "id": "77xIIr_BdwJ_"
      }
    },
    {
      "cell_type": "code",
      "source": [
        "image_input = tf.keras.Input((32, 32, 3))\n",
        "denoising_cnn_encoder.trainable = False\n",
        "classifier3 = ClassificationHead(256, 10)\n",
        "cnn_den_classifier = tf.keras.Model(image_input, classifier3(denoising_cnn_encoder(image_input)))\n",
        "\n",
        "loss_function = tf.losses.SparseCategoricalCrossentropy(from_logits=True)\n",
        "optimizer = tf.keras.optimizers.Adam()\n",
        "metrics = [tf.keras.metrics.CategoricalAccuracy()]\n",
        "cnn_den_classifier.compile(loss = loss_function, optimizer = optimizer, metrics = metrics)"
      ],
      "metadata": {
        "id": "UQUd95XTdvz7"
      },
      "execution_count": 28,
      "outputs": []
    },
    {
      "cell_type": "code",
      "source": [
        "cnn_den_classifier.fit(cl_train_dataset, epochs = 5, validation_data = cl_test_dataset)"
      ],
      "metadata": {
        "colab": {
          "base_uri": "https://localhost:8080/"
        },
        "id": "TvAV1Iq9eYGx",
        "outputId": "c24b2d46-0bc4-4982-a65d-e77866d48008"
      },
      "execution_count": 29,
      "outputs": [
        {
          "output_type": "stream",
          "name": "stdout",
          "text": [
            "Epoch 1/5\n",
            "196/196 [==============================] - 2s 10ms/step - loss: 1.9175 - categorical_accuracy: 0.1008 - val_loss: 1.8052 - val_categorical_accuracy: 0.0937\n",
            "Epoch 2/5\n",
            "196/196 [==============================] - 2s 9ms/step - loss: 1.7782 - categorical_accuracy: 0.0929 - val_loss: 1.7395 - val_categorical_accuracy: 0.0822\n",
            "Epoch 3/5\n",
            "196/196 [==============================] - 2s 9ms/step - loss: 1.7206 - categorical_accuracy: 0.0916 - val_loss: 1.6914 - val_categorical_accuracy: 0.1016\n",
            "Epoch 4/5\n",
            "196/196 [==============================] - 2s 9ms/step - loss: 1.6781 - categorical_accuracy: 0.0925 - val_loss: 1.6659 - val_categorical_accuracy: 0.0959\n",
            "Epoch 5/5\n",
            "196/196 [==============================] - 2s 9ms/step - loss: 1.6459 - categorical_accuracy: 0.0894 - val_loss: 1.6514 - val_categorical_accuracy: 0.1003\n"
          ]
        },
        {
          "output_type": "execute_result",
          "data": {
            "text/plain": [
              "<keras.callbacks.History at 0x7f9f5e3dbeb0>"
            ]
          },
          "metadata": {},
          "execution_count": 29
        }
      ]
    }
  ],
  "metadata": {
    "colab": {
      "provenance": [],
      "collapsed_sections": [
        "JqxwZshS6T01",
        "pN9z4geq6W1e",
        "LvX3VFk96-Fr",
        "J23HWHVD7Y8r",
        "8EAg4uFN7zvC",
        "jOSrdiL68J8H",
        "6v-zV_P38qGf",
        "e4rBJCwfbVnf",
        "L50cxC1xbbGY",
        "dZ9ADzE3dFIw",
        "77xIIr_BdwJ_"
      ]
    },
    "kernelspec": {
      "display_name": "Python 3",
      "name": "python3"
    },
    "language_info": {
      "name": "python"
    },
    "accelerator": "GPU",
    "gpuClass": "standard"
  },
  "nbformat": 4,
  "nbformat_minor": 0
}